{
 "cells": [
  {
   "cell_type": "markdown",
   "id": "e513f60c",
   "metadata": {},
   "source": [
    "## Limpieza de Datos con Python"
   ]
  },
  {
   "cell_type": "code",
   "execution_count": 35,
   "id": "019265f3",
   "metadata": {},
   "outputs": [],
   "source": [
    "# Importando las librerías necesarias\n",
    "import matplotlib.pyplot as plt # Para gráficos básicos\n",
    "import seaborn as sns # Para gráficos estadísticos\n",
    "import plotly.express as px # Para gráficos interactivos\n",
    "import plotly.io as pio # Para guardar gráficos de Plotly\n",
    "import pandas as pd # Para manipulación de datos\n",
    "import numpy as np # Para operaciones numéricas\n",
    "from colorama import Fore, Style # Para colores en la terminal"
   ]
  },
  {
   "cell_type": "code",
   "execution_count": 36,
   "id": "e6d3533a",
   "metadata": {},
   "outputs": [],
   "source": [
    "# Ruta del archivo CSV\n",
    "ruta = \"../data/raw/amazon.csv\"\n",
    "# Cargando el dataset\n",
    "df = pd.read_csv(ruta)"
   ]
  },
  {
   "cell_type": "markdown",
   "id": "5e507196",
   "metadata": {},
   "source": [
    "### 1. Inspección Inicial"
   ]
  },
  {
   "cell_type": "code",
   "execution_count": 37,
   "id": "08f9bce6",
   "metadata": {},
   "outputs": [
    {
     "name": "stdout",
     "output_type": "stream",
     "text": [
      "\u001b[32mInspección Inicial del Dataset:\u001b[0m\n",
      "\u001b[34mEl dataset contiene 1465 filas y 16 columnas.\u001b[0m\n"
     ]
    }
   ],
   "source": [
    "# Inspección Inicial\n",
    "print(Fore.GREEN + \"Inspección Inicial del Dataset:\" + Style.RESET_ALL)\n",
    "print(Fore.BLUE + f\"El dataset contiene {df.shape[0]} filas y {df.shape[1]} columnas.\" + Style.RESET_ALL)"
   ]
  },
  {
   "cell_type": "code",
   "execution_count": 38,
   "id": "5eb2a366",
   "metadata": {},
   "outputs": [
    {
     "name": "stdout",
     "output_type": "stream",
     "text": [
      "\u001b[32mPrimeras filas del dataset: \u001b[39m\n"
     ]
    },
    {
     "data": {
      "text/html": [
       "<div>\n",
       "<style scoped>\n",
       "    .dataframe tbody tr th:only-of-type {\n",
       "        vertical-align: middle;\n",
       "    }\n",
       "\n",
       "    .dataframe tbody tr th {\n",
       "        vertical-align: top;\n",
       "    }\n",
       "\n",
       "    .dataframe thead th {\n",
       "        text-align: right;\n",
       "    }\n",
       "</style>\n",
       "<table border=\"1\" class=\"dataframe\">\n",
       "  <thead>\n",
       "    <tr style=\"text-align: right;\">\n",
       "      <th></th>\n",
       "      <th>product_id</th>\n",
       "      <th>product_name</th>\n",
       "      <th>category</th>\n",
       "      <th>discounted_price</th>\n",
       "      <th>actual_price</th>\n",
       "      <th>discount_percentage</th>\n",
       "      <th>rating</th>\n",
       "      <th>rating_count</th>\n",
       "      <th>about_product</th>\n",
       "      <th>user_id</th>\n",
       "      <th>user_name</th>\n",
       "      <th>review_id</th>\n",
       "      <th>review_title</th>\n",
       "      <th>review_content</th>\n",
       "      <th>img_link</th>\n",
       "      <th>product_link</th>\n",
       "    </tr>\n",
       "  </thead>\n",
       "  <tbody>\n",
       "    <tr>\n",
       "      <th>0</th>\n",
       "      <td>B07JW9H4J1</td>\n",
       "      <td>Wayona Nylon Braided USB to Lightning Fast Cha...</td>\n",
       "      <td>Computers&amp;Accessories|Accessories&amp;Peripherals|...</td>\n",
       "      <td>₹399</td>\n",
       "      <td>₹1,099</td>\n",
       "      <td>64%</td>\n",
       "      <td>4.2</td>\n",
       "      <td>24,269</td>\n",
       "      <td>High Compatibility : Compatible With iPhone 12...</td>\n",
       "      <td>AG3D6O4STAQKAY2UVGEUV46KN35Q,AHMY5CWJMMK5BJRBB...</td>\n",
       "      <td>Manav,Adarsh gupta,Sundeep,S.Sayeed Ahmed,jasp...</td>\n",
       "      <td>R3HXWT0LRP0NMF,R2AJM3LFTLZHFO,R6AQJGUP6P86,R1K...</td>\n",
       "      <td>Satisfied,Charging is really fast,Value for mo...</td>\n",
       "      <td>Looks durable Charging is fine tooNo complains...</td>\n",
       "      <td>https://m.media-amazon.com/images/W/WEBP_40237...</td>\n",
       "      <td>https://www.amazon.in/Wayona-Braided-WN3LG1-Sy...</td>\n",
       "    </tr>\n",
       "    <tr>\n",
       "      <th>1</th>\n",
       "      <td>B098NS6PVG</td>\n",
       "      <td>Ambrane Unbreakable 60W / 3A Fast Charging 1.5...</td>\n",
       "      <td>Computers&amp;Accessories|Accessories&amp;Peripherals|...</td>\n",
       "      <td>₹199</td>\n",
       "      <td>₹349</td>\n",
       "      <td>43%</td>\n",
       "      <td>4.0</td>\n",
       "      <td>43,994</td>\n",
       "      <td>Compatible with all Type C enabled devices, be...</td>\n",
       "      <td>AECPFYFQVRUWC3KGNLJIOREFP5LQ,AGYYVPDD7YG7FYNBX...</td>\n",
       "      <td>ArdKn,Nirbhay kumar,Sagar Viswanathan,Asp,Plac...</td>\n",
       "      <td>RGIQEG07R9HS2,R1SMWZQ86XIN8U,R2J3Y1WL29GWDE,RY...</td>\n",
       "      <td>A Good Braided Cable for Your Type C Device,Go...</td>\n",
       "      <td>I ordered this cable to connect my phone to An...</td>\n",
       "      <td>https://m.media-amazon.com/images/W/WEBP_40237...</td>\n",
       "      <td>https://www.amazon.in/Ambrane-Unbreakable-Char...</td>\n",
       "    </tr>\n",
       "    <tr>\n",
       "      <th>2</th>\n",
       "      <td>B096MSW6CT</td>\n",
       "      <td>Sounce Fast Phone Charging Cable &amp; Data Sync U...</td>\n",
       "      <td>Computers&amp;Accessories|Accessories&amp;Peripherals|...</td>\n",
       "      <td>₹199</td>\n",
       "      <td>₹1,899</td>\n",
       "      <td>90%</td>\n",
       "      <td>3.9</td>\n",
       "      <td>7,928</td>\n",
       "      <td>【 Fast Charger&amp; Data Sync】-With built-in safet...</td>\n",
       "      <td>AGU3BBQ2V2DDAMOAKGFAWDDQ6QHA,AESFLDV2PT363T2AQ...</td>\n",
       "      <td>Kunal,Himanshu,viswanath,sai niharka,saqib mal...</td>\n",
       "      <td>R3J3EQQ9TZI5ZJ,R3E7WBGK7ID0KV,RWU79XKQ6I1QF,R2...</td>\n",
       "      <td>Good speed for earlier versions,Good Product,W...</td>\n",
       "      <td>Not quite durable and sturdy,https://m.media-a...</td>\n",
       "      <td>https://m.media-amazon.com/images/W/WEBP_40237...</td>\n",
       "      <td>https://www.amazon.in/Sounce-iPhone-Charging-C...</td>\n",
       "    </tr>\n",
       "    <tr>\n",
       "      <th>3</th>\n",
       "      <td>B08HDJ86NZ</td>\n",
       "      <td>boAt Deuce USB 300 2 in 1 Type-C &amp; Micro USB S...</td>\n",
       "      <td>Computers&amp;Accessories|Accessories&amp;Peripherals|...</td>\n",
       "      <td>₹329</td>\n",
       "      <td>₹699</td>\n",
       "      <td>53%</td>\n",
       "      <td>4.2</td>\n",
       "      <td>94,363</td>\n",
       "      <td>The boAt Deuce USB 300 2 in 1 cable is compati...</td>\n",
       "      <td>AEWAZDZZJLQUYVOVGBEUKSLXHQ5A,AG5HTSFRRE6NL3M5S...</td>\n",
       "      <td>Omkar dhale,JD,HEMALATHA,Ajwadh a.,amar singh ...</td>\n",
       "      <td>R3EEUZKKK9J36I,R3HJVYCLYOY554,REDECAZ7AMPQC,R1...</td>\n",
       "      <td>Good product,Good one,Nice,Really nice product...</td>\n",
       "      <td>Good product,long wire,Charges good,Nice,I bou...</td>\n",
       "      <td>https://m.media-amazon.com/images/I/41V5FtEWPk...</td>\n",
       "      <td>https://www.amazon.in/Deuce-300-Resistant-Tang...</td>\n",
       "    </tr>\n",
       "    <tr>\n",
       "      <th>4</th>\n",
       "      <td>B08CF3B7N1</td>\n",
       "      <td>Portronics Konnect L 1.2M Fast Charging 3A 8 P...</td>\n",
       "      <td>Computers&amp;Accessories|Accessories&amp;Peripherals|...</td>\n",
       "      <td>₹154</td>\n",
       "      <td>₹399</td>\n",
       "      <td>61%</td>\n",
       "      <td>4.2</td>\n",
       "      <td>16,905</td>\n",
       "      <td>[CHARGE &amp; SYNC FUNCTION]- This cable comes wit...</td>\n",
       "      <td>AE3Q6KSUK5P75D5HFYHCRAOLODSA,AFUGIFH5ZAFXRDSZH...</td>\n",
       "      <td>rahuls6099,Swasat Borah,Ajay Wadke,Pranali,RVK...</td>\n",
       "      <td>R1BP4L2HH9TFUP,R16PVJEXKV6QZS,R2UPDB81N66T4P,R...</td>\n",
       "      <td>As good as original,Decent,Good one for second...</td>\n",
       "      <td>Bought this instead of original apple, does th...</td>\n",
       "      <td>https://m.media-amazon.com/images/W/WEBP_40237...</td>\n",
       "      <td>https://www.amazon.in/Portronics-Konnect-POR-1...</td>\n",
       "    </tr>\n",
       "  </tbody>\n",
       "</table>\n",
       "</div>"
      ],
      "text/plain": [
       "   product_id                                       product_name  \\\n",
       "0  B07JW9H4J1  Wayona Nylon Braided USB to Lightning Fast Cha...   \n",
       "1  B098NS6PVG  Ambrane Unbreakable 60W / 3A Fast Charging 1.5...   \n",
       "2  B096MSW6CT  Sounce Fast Phone Charging Cable & Data Sync U...   \n",
       "3  B08HDJ86NZ  boAt Deuce USB 300 2 in 1 Type-C & Micro USB S...   \n",
       "4  B08CF3B7N1  Portronics Konnect L 1.2M Fast Charging 3A 8 P...   \n",
       "\n",
       "                                            category discounted_price  \\\n",
       "0  Computers&Accessories|Accessories&Peripherals|...             ₹399   \n",
       "1  Computers&Accessories|Accessories&Peripherals|...             ₹199   \n",
       "2  Computers&Accessories|Accessories&Peripherals|...             ₹199   \n",
       "3  Computers&Accessories|Accessories&Peripherals|...             ₹329   \n",
       "4  Computers&Accessories|Accessories&Peripherals|...             ₹154   \n",
       "\n",
       "  actual_price discount_percentage rating rating_count  \\\n",
       "0       ₹1,099                 64%    4.2       24,269   \n",
       "1         ₹349                 43%    4.0       43,994   \n",
       "2       ₹1,899                 90%    3.9        7,928   \n",
       "3         ₹699                 53%    4.2       94,363   \n",
       "4         ₹399                 61%    4.2       16,905   \n",
       "\n",
       "                                       about_product  \\\n",
       "0  High Compatibility : Compatible With iPhone 12...   \n",
       "1  Compatible with all Type C enabled devices, be...   \n",
       "2  【 Fast Charger& Data Sync】-With built-in safet...   \n",
       "3  The boAt Deuce USB 300 2 in 1 cable is compati...   \n",
       "4  [CHARGE & SYNC FUNCTION]- This cable comes wit...   \n",
       "\n",
       "                                             user_id  \\\n",
       "0  AG3D6O4STAQKAY2UVGEUV46KN35Q,AHMY5CWJMMK5BJRBB...   \n",
       "1  AECPFYFQVRUWC3KGNLJIOREFP5LQ,AGYYVPDD7YG7FYNBX...   \n",
       "2  AGU3BBQ2V2DDAMOAKGFAWDDQ6QHA,AESFLDV2PT363T2AQ...   \n",
       "3  AEWAZDZZJLQUYVOVGBEUKSLXHQ5A,AG5HTSFRRE6NL3M5S...   \n",
       "4  AE3Q6KSUK5P75D5HFYHCRAOLODSA,AFUGIFH5ZAFXRDSZH...   \n",
       "\n",
       "                                           user_name  \\\n",
       "0  Manav,Adarsh gupta,Sundeep,S.Sayeed Ahmed,jasp...   \n",
       "1  ArdKn,Nirbhay kumar,Sagar Viswanathan,Asp,Plac...   \n",
       "2  Kunal,Himanshu,viswanath,sai niharka,saqib mal...   \n",
       "3  Omkar dhale,JD,HEMALATHA,Ajwadh a.,amar singh ...   \n",
       "4  rahuls6099,Swasat Borah,Ajay Wadke,Pranali,RVK...   \n",
       "\n",
       "                                           review_id  \\\n",
       "0  R3HXWT0LRP0NMF,R2AJM3LFTLZHFO,R6AQJGUP6P86,R1K...   \n",
       "1  RGIQEG07R9HS2,R1SMWZQ86XIN8U,R2J3Y1WL29GWDE,RY...   \n",
       "2  R3J3EQQ9TZI5ZJ,R3E7WBGK7ID0KV,RWU79XKQ6I1QF,R2...   \n",
       "3  R3EEUZKKK9J36I,R3HJVYCLYOY554,REDECAZ7AMPQC,R1...   \n",
       "4  R1BP4L2HH9TFUP,R16PVJEXKV6QZS,R2UPDB81N66T4P,R...   \n",
       "\n",
       "                                        review_title  \\\n",
       "0  Satisfied,Charging is really fast,Value for mo...   \n",
       "1  A Good Braided Cable for Your Type C Device,Go...   \n",
       "2  Good speed for earlier versions,Good Product,W...   \n",
       "3  Good product,Good one,Nice,Really nice product...   \n",
       "4  As good as original,Decent,Good one for second...   \n",
       "\n",
       "                                      review_content  \\\n",
       "0  Looks durable Charging is fine tooNo complains...   \n",
       "1  I ordered this cable to connect my phone to An...   \n",
       "2  Not quite durable and sturdy,https://m.media-a...   \n",
       "3  Good product,long wire,Charges good,Nice,I bou...   \n",
       "4  Bought this instead of original apple, does th...   \n",
       "\n",
       "                                            img_link  \\\n",
       "0  https://m.media-amazon.com/images/W/WEBP_40237...   \n",
       "1  https://m.media-amazon.com/images/W/WEBP_40237...   \n",
       "2  https://m.media-amazon.com/images/W/WEBP_40237...   \n",
       "3  https://m.media-amazon.com/images/I/41V5FtEWPk...   \n",
       "4  https://m.media-amazon.com/images/W/WEBP_40237...   \n",
       "\n",
       "                                        product_link  \n",
       "0  https://www.amazon.in/Wayona-Braided-WN3LG1-Sy...  \n",
       "1  https://www.amazon.in/Ambrane-Unbreakable-Char...  \n",
       "2  https://www.amazon.in/Sounce-iPhone-Charging-C...  \n",
       "3  https://www.amazon.in/Deuce-300-Resistant-Tang...  \n",
       "4  https://www.amazon.in/Portronics-Konnect-POR-1...  "
      ]
     },
     "execution_count": 38,
     "metadata": {},
     "output_type": "execute_result"
    }
   ],
   "source": [
    "# Primeras filas del dataset\n",
    "print(Fore.GREEN + \"Primeras filas del dataset: \" + Fore.RESET)\n",
    "df.head()"
   ]
  },
  {
   "cell_type": "code",
   "execution_count": 39,
   "id": "e4ea2880",
   "metadata": {},
   "outputs": [
    {
     "name": "stdout",
     "output_type": "stream",
     "text": [
      "\u001b[32mInformación del DataFrame:\u001b[39m\n",
      "\u001b[34m\n",
      "<class 'pandas.core.frame.DataFrame'>\n",
      "RangeIndex: 1465 entries, 0 to 1464\n",
      "Data columns (total 16 columns):\n",
      " #   Column               Non-Null Count  Dtype \n",
      "---  ------               --------------  ----- \n",
      " 0   product_id           1465 non-null   object\n",
      " 1   product_name         1465 non-null   object\n",
      " 2   category             1465 non-null   object\n",
      " 3   discounted_price     1465 non-null   object\n",
      " 4   actual_price         1465 non-null   object\n",
      " 5   discount_percentage  1465 non-null   object\n",
      " 6   rating               1465 non-null   object\n",
      " 7   rating_count         1463 non-null   object\n",
      " 8   about_product        1465 non-null   object\n",
      " 9   user_id              1465 non-null   object\n",
      " 10  user_name            1465 non-null   object\n",
      " 11  review_id            1465 non-null   object\n",
      " 12  review_title         1465 non-null   object\n",
      " 13  review_content       1465 non-null   object\n",
      " 14  img_link             1465 non-null   object\n",
      " 15  product_link         1465 non-null   object\n",
      "dtypes: object(16)\n",
      "memory usage: 183.3+ KB\n",
      "\u001b[0m\n"
     ]
    }
   ],
   "source": [
    "# Información del DataFrame\n",
    "print(Fore.GREEN + \"Información del DataFrame:\" + Fore.RESET)\n",
    "print(Fore.BLUE)\n",
    "df.info()\n",
    "print(Style.RESET_ALL)"
   ]
  },
  {
   "cell_type": "markdown",
   "id": "80cafb94",
   "metadata": {},
   "source": [
    "**Interpretación:**\n",
    "\n",
    "- Podemos concluir que no hay nulos en el dataset.\n",
    "- Hay que corregir los tipos de datos (Dtypes) en algunas columnas."
   ]
  },
  {
   "cell_type": "code",
   "execution_count": 40,
   "id": "57071ba6",
   "metadata": {},
   "outputs": [
    {
     "name": "stdout",
     "output_type": "stream",
     "text": [
      "\u001b[34mEstadísticas descriptivas:\n"
     ]
    },
    {
     "data": {
      "text/html": [
       "<div>\n",
       "<style scoped>\n",
       "    .dataframe tbody tr th:only-of-type {\n",
       "        vertical-align: middle;\n",
       "    }\n",
       "\n",
       "    .dataframe tbody tr th {\n",
       "        vertical-align: top;\n",
       "    }\n",
       "\n",
       "    .dataframe thead th {\n",
       "        text-align: right;\n",
       "    }\n",
       "</style>\n",
       "<table border=\"1\" class=\"dataframe\">\n",
       "  <thead>\n",
       "    <tr style=\"text-align: right;\">\n",
       "      <th></th>\n",
       "      <th>product_id</th>\n",
       "      <th>product_name</th>\n",
       "      <th>category</th>\n",
       "      <th>discounted_price</th>\n",
       "      <th>actual_price</th>\n",
       "      <th>discount_percentage</th>\n",
       "      <th>rating</th>\n",
       "      <th>rating_count</th>\n",
       "      <th>about_product</th>\n",
       "      <th>user_id</th>\n",
       "      <th>user_name</th>\n",
       "      <th>review_id</th>\n",
       "      <th>review_title</th>\n",
       "      <th>review_content</th>\n",
       "      <th>img_link</th>\n",
       "      <th>product_link</th>\n",
       "    </tr>\n",
       "  </thead>\n",
       "  <tbody>\n",
       "    <tr>\n",
       "      <th>count</th>\n",
       "      <td>1465</td>\n",
       "      <td>1465</td>\n",
       "      <td>1465</td>\n",
       "      <td>1465</td>\n",
       "      <td>1465</td>\n",
       "      <td>1465</td>\n",
       "      <td>1465</td>\n",
       "      <td>1463</td>\n",
       "      <td>1465</td>\n",
       "      <td>1465</td>\n",
       "      <td>1465</td>\n",
       "      <td>1465</td>\n",
       "      <td>1465</td>\n",
       "      <td>1465</td>\n",
       "      <td>1465</td>\n",
       "      <td>1465</td>\n",
       "    </tr>\n",
       "    <tr>\n",
       "      <th>unique</th>\n",
       "      <td>1351</td>\n",
       "      <td>1337</td>\n",
       "      <td>211</td>\n",
       "      <td>550</td>\n",
       "      <td>449</td>\n",
       "      <td>92</td>\n",
       "      <td>28</td>\n",
       "      <td>1143</td>\n",
       "      <td>1293</td>\n",
       "      <td>1194</td>\n",
       "      <td>1194</td>\n",
       "      <td>1194</td>\n",
       "      <td>1194</td>\n",
       "      <td>1212</td>\n",
       "      <td>1412</td>\n",
       "      <td>1465</td>\n",
       "    </tr>\n",
       "    <tr>\n",
       "      <th>top</th>\n",
       "      <td>B07JW9H4J1</td>\n",
       "      <td>Fire-Boltt Ninja Call Pro Plus 1.83\" Smart Wat...</td>\n",
       "      <td>Computers&amp;Accessories|Accessories&amp;Peripherals|...</td>\n",
       "      <td>₹199</td>\n",
       "      <td>₹999</td>\n",
       "      <td>50%</td>\n",
       "      <td>4.1</td>\n",
       "      <td>9,378</td>\n",
       "      <td>[CHARGE &amp; SYNC FUNCTION]- This cable comes wit...</td>\n",
       "      <td>AHIKJUDTVJ4T6DV6IUGFYZ5LXMPA,AE55KTFVNXYFD5FPY...</td>\n",
       "      <td>$@|\\|TO$|-|,Sethu madhav,Akash Thakur,Burger P...</td>\n",
       "      <td>R3F4T5TRYPTMIG,R3DQIEC603E7AY,R1O4Z15FD40PV5,R...</td>\n",
       "      <td>Worked on iPhone 7 and didn’t work on XR,Good ...</td>\n",
       "      <td>I am not big on camera usage, personally. I wa...</td>\n",
       "      <td>https://m.media-amazon.com/images/I/413sCRKobN...</td>\n",
       "      <td>https://www.amazon.in/Wayona-Braided-WN3LG1-Sy...</td>\n",
       "    </tr>\n",
       "    <tr>\n",
       "      <th>freq</th>\n",
       "      <td>3</td>\n",
       "      <td>5</td>\n",
       "      <td>233</td>\n",
       "      <td>53</td>\n",
       "      <td>120</td>\n",
       "      <td>56</td>\n",
       "      <td>244</td>\n",
       "      <td>9</td>\n",
       "      <td>6</td>\n",
       "      <td>10</td>\n",
       "      <td>10</td>\n",
       "      <td>10</td>\n",
       "      <td>10</td>\n",
       "      <td>8</td>\n",
       "      <td>3</td>\n",
       "      <td>1</td>\n",
       "    </tr>\n",
       "  </tbody>\n",
       "</table>\n",
       "</div>"
      ],
      "text/plain": [
       "        product_id                                       product_name  \\\n",
       "count         1465                                               1465   \n",
       "unique        1351                                               1337   \n",
       "top     B07JW9H4J1  Fire-Boltt Ninja Call Pro Plus 1.83\" Smart Wat...   \n",
       "freq             3                                                  5   \n",
       "\n",
       "                                                 category discounted_price  \\\n",
       "count                                                1465             1465   \n",
       "unique                                                211              550   \n",
       "top     Computers&Accessories|Accessories&Peripherals|...             ₹199   \n",
       "freq                                                  233               53   \n",
       "\n",
       "       actual_price discount_percentage rating rating_count  \\\n",
       "count          1465                1465   1465         1463   \n",
       "unique          449                  92     28         1143   \n",
       "top            ₹999                 50%    4.1        9,378   \n",
       "freq            120                  56    244            9   \n",
       "\n",
       "                                            about_product  \\\n",
       "count                                                1465   \n",
       "unique                                               1293   \n",
       "top     [CHARGE & SYNC FUNCTION]- This cable comes wit...   \n",
       "freq                                                    6   \n",
       "\n",
       "                                                  user_id  \\\n",
       "count                                                1465   \n",
       "unique                                               1194   \n",
       "top     AHIKJUDTVJ4T6DV6IUGFYZ5LXMPA,AE55KTFVNXYFD5FPY...   \n",
       "freq                                                   10   \n",
       "\n",
       "                                                user_name  \\\n",
       "count                                                1465   \n",
       "unique                                               1194   \n",
       "top     $@|\\|TO$|-|,Sethu madhav,Akash Thakur,Burger P...   \n",
       "freq                                                   10   \n",
       "\n",
       "                                                review_id  \\\n",
       "count                                                1465   \n",
       "unique                                               1194   \n",
       "top     R3F4T5TRYPTMIG,R3DQIEC603E7AY,R1O4Z15FD40PV5,R...   \n",
       "freq                                                   10   \n",
       "\n",
       "                                             review_title  \\\n",
       "count                                                1465   \n",
       "unique                                               1194   \n",
       "top     Worked on iPhone 7 and didn’t work on XR,Good ...   \n",
       "freq                                                   10   \n",
       "\n",
       "                                           review_content  \\\n",
       "count                                                1465   \n",
       "unique                                               1212   \n",
       "top     I am not big on camera usage, personally. I wa...   \n",
       "freq                                                    8   \n",
       "\n",
       "                                                 img_link  \\\n",
       "count                                                1465   \n",
       "unique                                               1412   \n",
       "top     https://m.media-amazon.com/images/I/413sCRKobN...   \n",
       "freq                                                    3   \n",
       "\n",
       "                                             product_link  \n",
       "count                                                1465  \n",
       "unique                                               1465  \n",
       "top     https://www.amazon.in/Wayona-Braided-WN3LG1-Sy...  \n",
       "freq                                                    1  "
      ]
     },
     "execution_count": 40,
     "metadata": {},
     "output_type": "execute_result"
    }
   ],
   "source": [
    "# Estadísticas descriptivas\n",
    "print(Fore.BLUE + \"Estadísticas descriptivas:\")\n",
    "df.describe()"
   ]
  },
  {
   "cell_type": "markdown",
   "id": "72a88f75",
   "metadata": {},
   "source": [
    "**Interpretación:**\n",
    "\n",
    "- Ya que todas las columnas son de tipo Object, no se puede concluir cuales son las estadísticas descriptivas generales."
   ]
  },
  {
   "cell_type": "markdown",
   "id": "0498a799",
   "metadata": {},
   "source": [
    "### 2. Tratamiento de valores nulos"
   ]
  },
  {
   "cell_type": "code",
   "execution_count": 41,
   "id": "acba46da",
   "metadata": {},
   "outputs": [
    {
     "name": "stdout",
     "output_type": "stream",
     "text": [
      "\u001b[32mValores nulos en el dataset:\u001b[39m\n",
      "product_id             0\n",
      "product_name           0\n",
      "category               0\n",
      "discounted_price       0\n",
      "actual_price           0\n",
      "discount_percentage    0\n",
      "rating                 0\n",
      "rating_count           2\n",
      "about_product          0\n",
      "user_id                0\n",
      "user_name              0\n",
      "review_id              0\n",
      "review_title           0\n",
      "review_content         0\n",
      "img_link               0\n",
      "product_link           0\n",
      "dtype: int64\n"
     ]
    }
   ],
   "source": [
    "# Ver valores nulos\n",
    "print(Fore.GREEN + \"Valores nulos en el dataset:\" + Fore.RESET)\n",
    "print(df.isnull().sum())"
   ]
  },
  {
   "cell_type": "markdown",
   "id": "929ce95f",
   "metadata": {},
   "source": [
    "**Interpretación:**\n",
    "\n",
    "- No hay valores nulos en ninguna de las columnas."
   ]
  },
  {
   "cell_type": "markdown",
   "id": "d111d3a8",
   "metadata": {},
   "source": [
    "### 3. Eliminación de Duplicados"
   ]
  },
  {
   "cell_type": "code",
   "execution_count": 42,
   "id": "869b367d",
   "metadata": {},
   "outputs": [
    {
     "name": "stdout",
     "output_type": "stream",
     "text": [
      "Valores únicos por columna:\n",
      "product_id: 1351 valores únicos\n",
      "product_name: 1337 valores únicos\n",
      "category: 211 valores únicos\n",
      "discounted_price: 550 valores únicos\n",
      "actual_price: 449 valores únicos\n",
      "discount_percentage: 92 valores únicos\n",
      "rating: 28 valores únicos\n",
      "rating_count: 1143 valores únicos\n",
      "about_product: 1293 valores únicos\n",
      "user_id: 1194 valores únicos\n",
      "user_name: 1194 valores únicos\n",
      "review_id: 1194 valores únicos\n",
      "review_title: 1194 valores únicos\n",
      "review_content: 1212 valores únicos\n",
      "img_link: 1412 valores únicos\n",
      "product_link: 1465 valores únicos\n",
      "\u001b[32mNúmero de filas duplicadas en el dataset:\u001b[39m\n",
      "0\n"
     ]
    }
   ],
   "source": [
    "print(\"Valores únicos por columna:\")\n",
    "for col in df.columns:\n",
    "    print(f\"{col}: {df[col].nunique()} valores únicos\")\n",
    "# Verificación de duplicados\n",
    "print(Fore.GREEN + \"Número de filas duplicadas en el dataset:\" + Fore.RESET)\n",
    "print(df.duplicated().sum()) "
   ]
  },
  {
   "cell_type": "markdown",
   "id": "ee5cb5b8",
   "metadata": {},
   "source": [
    "**Interpretación:**\n",
    "\n",
    "- No hay duplicados en el dataset"
   ]
  },
  {
   "cell_type": "markdown",
   "id": "ae759585",
   "metadata": {},
   "source": [
    "### 4. Conversión de tipos de datos"
   ]
  },
  {
   "cell_type": "code",
   "execution_count": 43,
   "id": "ac2ccad8",
   "metadata": {},
   "outputs": [
    {
     "name": "stdout",
     "output_type": "stream",
     "text": [
      "\u001b[32mTipos de datos de cada columna:\u001b[39m\n",
      "product_id             object\n",
      "product_name           object\n",
      "category               object\n",
      "discounted_price       object\n",
      "actual_price           object\n",
      "discount_percentage    object\n",
      "rating                 object\n",
      "rating_count           object\n",
      "about_product          object\n",
      "user_id                object\n",
      "user_name              object\n",
      "review_id              object\n",
      "review_title           object\n",
      "review_content         object\n",
      "img_link               object\n",
      "product_link           object\n",
      "dtype: object\n"
     ]
    }
   ],
   "source": [
    "# Revisión de tipos de datos\n",
    "print(Fore.GREEN + \"Tipos de datos de cada columna:\" + Fore.RESET)\n",
    "print(df.dtypes)"
   ]
  },
  {
   "cell_type": "code",
   "execution_count": 44,
   "id": "c291c498",
   "metadata": {},
   "outputs": [
    {
     "data": {
      "text/html": [
       "<div>\n",
       "<style scoped>\n",
       "    .dataframe tbody tr th:only-of-type {\n",
       "        vertical-align: middle;\n",
       "    }\n",
       "\n",
       "    .dataframe tbody tr th {\n",
       "        vertical-align: top;\n",
       "    }\n",
       "\n",
       "    .dataframe thead th {\n",
       "        text-align: right;\n",
       "    }\n",
       "</style>\n",
       "<table border=\"1\" class=\"dataframe\">\n",
       "  <thead>\n",
       "    <tr style=\"text-align: right;\">\n",
       "      <th></th>\n",
       "      <th>product_id</th>\n",
       "      <th>product_name</th>\n",
       "      <th>category</th>\n",
       "      <th>discounted_price</th>\n",
       "      <th>actual_price</th>\n",
       "      <th>discount_percentage</th>\n",
       "      <th>rating</th>\n",
       "      <th>rating_count</th>\n",
       "      <th>about_product</th>\n",
       "      <th>user_id</th>\n",
       "      <th>user_name</th>\n",
       "      <th>review_id</th>\n",
       "      <th>review_title</th>\n",
       "      <th>review_content</th>\n",
       "      <th>img_link</th>\n",
       "      <th>product_link</th>\n",
       "    </tr>\n",
       "  </thead>\n",
       "  <tbody>\n",
       "    <tr>\n",
       "      <th>0</th>\n",
       "      <td>B07JW9H4J1</td>\n",
       "      <td>Wayona Nylon Braided USB to Lightning Fast Cha...</td>\n",
       "      <td>Computers&amp;Accessories|Accessories&amp;Peripherals|...</td>\n",
       "      <td>₹399</td>\n",
       "      <td>₹1,099</td>\n",
       "      <td>64%</td>\n",
       "      <td>4.2</td>\n",
       "      <td>24,269</td>\n",
       "      <td>High Compatibility : Compatible With iPhone 12...</td>\n",
       "      <td>AG3D6O4STAQKAY2UVGEUV46KN35Q,AHMY5CWJMMK5BJRBB...</td>\n",
       "      <td>Manav,Adarsh gupta,Sundeep,S.Sayeed Ahmed,jasp...</td>\n",
       "      <td>R3HXWT0LRP0NMF,R2AJM3LFTLZHFO,R6AQJGUP6P86,R1K...</td>\n",
       "      <td>Satisfied,Charging is really fast,Value for mo...</td>\n",
       "      <td>Looks durable Charging is fine tooNo complains...</td>\n",
       "      <td>https://m.media-amazon.com/images/W/WEBP_40237...</td>\n",
       "      <td>https://www.amazon.in/Wayona-Braided-WN3LG1-Sy...</td>\n",
       "    </tr>\n",
       "  </tbody>\n",
       "</table>\n",
       "</div>"
      ],
      "text/plain": [
       "   product_id                                       product_name  \\\n",
       "0  B07JW9H4J1  Wayona Nylon Braided USB to Lightning Fast Cha...   \n",
       "\n",
       "                                            category discounted_price  \\\n",
       "0  Computers&Accessories|Accessories&Peripherals|...             ₹399   \n",
       "\n",
       "  actual_price discount_percentage rating rating_count  \\\n",
       "0       ₹1,099                 64%    4.2       24,269   \n",
       "\n",
       "                                       about_product  \\\n",
       "0  High Compatibility : Compatible With iPhone 12...   \n",
       "\n",
       "                                             user_id  \\\n",
       "0  AG3D6O4STAQKAY2UVGEUV46KN35Q,AHMY5CWJMMK5BJRBB...   \n",
       "\n",
       "                                           user_name  \\\n",
       "0  Manav,Adarsh gupta,Sundeep,S.Sayeed Ahmed,jasp...   \n",
       "\n",
       "                                           review_id  \\\n",
       "0  R3HXWT0LRP0NMF,R2AJM3LFTLZHFO,R6AQJGUP6P86,R1K...   \n",
       "\n",
       "                                        review_title  \\\n",
       "0  Satisfied,Charging is really fast,Value for mo...   \n",
       "\n",
       "                                      review_content  \\\n",
       "0  Looks durable Charging is fine tooNo complains...   \n",
       "\n",
       "                                            img_link  \\\n",
       "0  https://m.media-amazon.com/images/W/WEBP_40237...   \n",
       "\n",
       "                                        product_link  \n",
       "0  https://www.amazon.in/Wayona-Braided-WN3LG1-Sy...  "
      ]
     },
     "execution_count": 44,
     "metadata": {},
     "output_type": "execute_result"
    }
   ],
   "source": [
    "df.head(1)"
   ]
  },
  {
   "cell_type": "code",
   "execution_count": 45,
   "id": "a7087bd9",
   "metadata": {},
   "outputs": [],
   "source": [
    "# Convertir columnas a tipos adecuados\n",
    "\n",
    "# Eliminar símbolos no numéricos de los precios\n",
    "df['discounted_price'] = df['discounted_price'].str.replace(r'[^\\d.]', '', regex=True)\n",
    "df['actual_price'] = df['actual_price'].str.replace(r'[^\\d.]', '', regex=True)\n",
    "\n",
    "# Eliminar '%' del porcentaje\n",
    "df['discount_percentage'] = df['discount_percentage'].str.replace('%', '', regex=True)\n",
    "\n",
    "# Eliminar comas del conteo de calificaciones\n",
    "df['rating_count'] = df['rating_count'].str.replace(',', '', regex=True)\n",
    "\n",
    "# Eliminar valores no numéricos en 'rating' (por ejemplo: '|', 'N/A', etc.)\n",
    "df['rating'] = pd.to_numeric(df['rating'], errors='coerce')\n",
    "\n",
    "# Convertir todo a los tipos correctos (y NaN si no se puede convertir)\n",
    "df['discounted_price'] = pd.to_numeric(df['discounted_price'], errors='coerce')\n",
    "df['actual_price'] = pd.to_numeric(df['actual_price'], errors='coerce')\n",
    "df['discount_percentage'] = pd.to_numeric(df['discount_percentage'], errors='coerce')\n",
    "df['rating_count'] = pd.to_numeric(df['rating_count'], errors='coerce')"
   ]
  },
  {
   "cell_type": "code",
   "execution_count": 46,
   "id": "a9ec3f85",
   "metadata": {},
   "outputs": [
    {
     "name": "stdout",
     "output_type": "stream",
     "text": [
      "\u001b[32mTipos de datos después de la conversión:\u001b[39m\n",
      "product_id              object\n",
      "product_name            object\n",
      "category                object\n",
      "discounted_price       float64\n",
      "actual_price           float64\n",
      "discount_percentage      int64\n",
      "rating                 float64\n",
      "rating_count           float64\n",
      "about_product           object\n",
      "user_id                 object\n",
      "user_name               object\n",
      "review_id               object\n",
      "review_title            object\n",
      "review_content          object\n",
      "img_link                object\n",
      "product_link            object\n",
      "dtype: object\n"
     ]
    }
   ],
   "source": [
    "# Verificar los tipos de datos después de la conversión\n",
    "print(Fore.GREEN + \"Tipos de datos después de la conversión:\" + Fore.RESET)\n",
    "print(df.dtypes)"
   ]
  },
  {
   "cell_type": "code",
   "execution_count": 47,
   "id": "69610307",
   "metadata": {},
   "outputs": [
    {
     "data": {
      "text/html": [
       "<div>\n",
       "<style scoped>\n",
       "    .dataframe tbody tr th:only-of-type {\n",
       "        vertical-align: middle;\n",
       "    }\n",
       "\n",
       "    .dataframe tbody tr th {\n",
       "        vertical-align: top;\n",
       "    }\n",
       "\n",
       "    .dataframe thead th {\n",
       "        text-align: right;\n",
       "    }\n",
       "</style>\n",
       "<table border=\"1\" class=\"dataframe\">\n",
       "  <thead>\n",
       "    <tr style=\"text-align: right;\">\n",
       "      <th></th>\n",
       "      <th>discounted_price</th>\n",
       "      <th>actual_price</th>\n",
       "      <th>discount_percentage</th>\n",
       "      <th>rating</th>\n",
       "      <th>rating_count</th>\n",
       "    </tr>\n",
       "  </thead>\n",
       "  <tbody>\n",
       "    <tr>\n",
       "      <th>count</th>\n",
       "      <td>1465.000000</td>\n",
       "      <td>1465.000000</td>\n",
       "      <td>1465.000000</td>\n",
       "      <td>1464.000000</td>\n",
       "      <td>1463.000000</td>\n",
       "    </tr>\n",
       "    <tr>\n",
       "      <th>mean</th>\n",
       "      <td>3125.310874</td>\n",
       "      <td>5444.990635</td>\n",
       "      <td>47.691468</td>\n",
       "      <td>4.096585</td>\n",
       "      <td>18295.541353</td>\n",
       "    </tr>\n",
       "    <tr>\n",
       "      <th>std</th>\n",
       "      <td>6944.304394</td>\n",
       "      <td>10874.826864</td>\n",
       "      <td>21.635905</td>\n",
       "      <td>0.291674</td>\n",
       "      <td>42753.864952</td>\n",
       "    </tr>\n",
       "    <tr>\n",
       "      <th>min</th>\n",
       "      <td>39.000000</td>\n",
       "      <td>39.000000</td>\n",
       "      <td>0.000000</td>\n",
       "      <td>2.000000</td>\n",
       "      <td>2.000000</td>\n",
       "    </tr>\n",
       "    <tr>\n",
       "      <th>25%</th>\n",
       "      <td>325.000000</td>\n",
       "      <td>800.000000</td>\n",
       "      <td>32.000000</td>\n",
       "      <td>4.000000</td>\n",
       "      <td>1186.000000</td>\n",
       "    </tr>\n",
       "    <tr>\n",
       "      <th>50%</th>\n",
       "      <td>799.000000</td>\n",
       "      <td>1650.000000</td>\n",
       "      <td>50.000000</td>\n",
       "      <td>4.100000</td>\n",
       "      <td>5179.000000</td>\n",
       "    </tr>\n",
       "    <tr>\n",
       "      <th>75%</th>\n",
       "      <td>1999.000000</td>\n",
       "      <td>4295.000000</td>\n",
       "      <td>63.000000</td>\n",
       "      <td>4.300000</td>\n",
       "      <td>17336.500000</td>\n",
       "    </tr>\n",
       "    <tr>\n",
       "      <th>max</th>\n",
       "      <td>77990.000000</td>\n",
       "      <td>139900.000000</td>\n",
       "      <td>94.000000</td>\n",
       "      <td>5.000000</td>\n",
       "      <td>426973.000000</td>\n",
       "    </tr>\n",
       "  </tbody>\n",
       "</table>\n",
       "</div>"
      ],
      "text/plain": [
       "       discounted_price   actual_price  discount_percentage       rating  \\\n",
       "count       1465.000000    1465.000000          1465.000000  1464.000000   \n",
       "mean        3125.310874    5444.990635            47.691468     4.096585   \n",
       "std         6944.304394   10874.826864            21.635905     0.291674   \n",
       "min           39.000000      39.000000             0.000000     2.000000   \n",
       "25%          325.000000     800.000000            32.000000     4.000000   \n",
       "50%          799.000000    1650.000000            50.000000     4.100000   \n",
       "75%         1999.000000    4295.000000            63.000000     4.300000   \n",
       "max        77990.000000  139900.000000            94.000000     5.000000   \n",
       "\n",
       "        rating_count  \n",
       "count    1463.000000  \n",
       "mean    18295.541353  \n",
       "std     42753.864952  \n",
       "min         2.000000  \n",
       "25%      1186.000000  \n",
       "50%      5179.000000  \n",
       "75%     17336.500000  \n",
       "max    426973.000000  "
      ]
     },
     "execution_count": 47,
     "metadata": {},
     "output_type": "execute_result"
    }
   ],
   "source": [
    "df.describe() # Para ver estadisticas descriptivas después de la conversión"
   ]
  },
  {
   "cell_type": "markdown",
   "id": "aa1fa322",
   "metadata": {},
   "source": [
    "### 5. Detección y Tratamiento de Outliers"
   ]
  },
  {
   "cell_type": "code",
   "execution_count": 48,
   "id": "1936bcf3",
   "metadata": {},
   "outputs": [
    {
     "data": {
      "text/plain": [
       "['discounted_price',\n",
       " 'actual_price',\n",
       " 'discount_percentage',\n",
       " 'rating',\n",
       " 'rating_count']"
      ]
     },
     "execution_count": 48,
     "metadata": {},
     "output_type": "execute_result"
    }
   ],
   "source": [
    "# Identificar columnas numéricas para detección de outliers\n",
    "numeric_cols = df.select_dtypes(include=[np.number]).columns.tolist()\n",
    "numeric_cols"
   ]
  },
  {
   "cell_type": "code",
   "execution_count": 53,
   "id": "fcfca181",
   "metadata": {},
   "outputs": [
    {
     "name": "stdout",
     "output_type": "stream",
     "text": [
      "\u001b[32mConteo de outliers en cada columna numérica:\u001b[39m\n",
      "discounted_price: 217 outliers\n",
      "actual_price: 213 outliers\n",
      "discount_percentage: 0 outliers\n",
      "rating: 74 outliers\n",
      "rating_count: 141 outliers\n"
     ]
    }
   ],
   "source": [
    "# Conteo de outliers en cada columna numérica usando el método IQR\n",
    "outliers_count = {}\n",
    "for col in numeric_cols:\n",
    "    Q1 = df[col].quantile(0.25)\n",
    "    Q3 = df[col].quantile(0.75)\n",
    "    IQR = Q3 - Q1\n",
    "    lower_bound = Q1 - 1.5 * IQR\n",
    "    upper_bound = Q3 + 1.5 * IQR\n",
    "    outliers_count[col] = df[(df[col] < lower_bound) | (df[col] > upper_bound)].shape[0]\n",
    "print(Fore.GREEN + \"Conteo de outliers en cada columna numérica:\" + Fore.RESET)\n",
    "for col, count in outliers_count.items():\n",
    "    print(f\"{col}: {count} outliers\")"
   ]
  },
  {
   "cell_type": "code",
   "execution_count": 55,
   "id": "4e3454f2",
   "metadata": {},
   "outputs": [
    {
     "name": "stdout",
     "output_type": "stream",
     "text": [
      "\n",
      "discounted_price - rango aceptado: [-2186.00, 4510.00]\n",
      "\n",
      "actual_price - rango aceptado: [-4442.50, 9537.50]\n",
      "\n",
      "discount_percentage - rango aceptado: [-14.50, 109.50]\n",
      "\n",
      "rating - rango aceptado: [3.55, 4.75]\n",
      "\n",
      "rating_count - rango aceptado: [-23039.75, 41562.25]\n"
     ]
    }
   ],
   "source": [
    "for col in numeric_cols:\n",
    "    Q1 = df[col].quantile(0.25)\n",
    "    Q3 = df[col].quantile(0.75)\n",
    "    IQR = Q3 - Q1\n",
    "    lower = Q1 - 1.5 * IQR\n",
    "    upper = Q3 + 1.5 * IQR\n",
    "    print(f\"\\n{col} - rango aceptado: [{lower:.2f}, {upper:.2f}]\")\n",
    "    df[df[col] < lower][col].head()\n",
    "    df[df[col] > upper][col].head()\n"
   ]
  },
  {
   "cell_type": "code",
   "execution_count": 58,
   "id": "95835550",
   "metadata": {},
   "outputs": [
    {
     "name": "stdout",
     "output_type": "stream",
     "text": [
      "\n",
      "📌 Outliers en 'discounted_price' (217 valores):\n",
      "[13999.0, 13490.0, 13490.0, 11499.0, 14999.0, 32999.0, 19999.0, 6999.0, 15999.0, 32990.0, 13999.0, 7999.0, 26999.0, 10901.0, 7299.0, 29999.0, 27999.0, 30990.0, 24999.0, 18990.0, 21999.0, 37999.0, 7390.0, 15990.0, 8499.0, 20990.0, 32999.0, 9999.0, 23999.0, 30990.0, 9999.0, 29990.0, 15490.0, 9490.0, 12499.0, 32999.0, 8990.0, 5699.0, 47990.0, 24999.0, 11990.0, 6490.0, 6999.0, 42999.0, 31999.0, 32990.0, 77990.0, 54990.0, 4699.0, 18999.0, 35999.0, 8999.0, 45999.0, 21999.0, 21990.0, 47990.0, 18999.0, 7999.0, 32990.0, 29999.0, 13990.0, 26999.0, 10990.0, 16999.0, 14999.0, 24990.0, 61999.0, 24499.0, 10499.0, 46999.0, 6499.0, 28999.0, 28999.0, 6499.0, 6499.0, 9499.0, 8999.0, 9499.0, 18499.0, 12999.0, 16999.0, 16499.0, 8499.0, 6499.0, 8999.0, 15499.0, 8999.0, 12999.0, 15490.0, 19999.0, 28999.0, 13999.0, 13999.0, 4790.0, 33999.0, 10999.0, 34999.0, 16999.0, 10999.0, 13999.0, 12999.0, 20999.0, 15499.0, 15499.0, 22999.0, 7499.0, 13999.0, 12999.0, 15490.0, 20999.0, 12490.0, 17999.0, 16499.0, 10499.0, 6499.0, 8999.0, 13999.0, 15499.0, 13999.0, 20999.0, 12999.0, 16999.0, 19999.0, 12999.0, 12999.0, 16999.0, 4999.0, 13999.0, 8499.0, 16999.0, 44999.0, 23999.0, 29990.0, 7998.0, 12999.0, 7915.0, 7499.0, 37990.0, 8499.0, 13999.0, 12000.0, 6299.0, 13490.0, 13490.0, 5599.0, 5799.0, 4999.0, 10099.0, 10389.0, 5998.0, 13999.0, 5899.0, 5299.0, 26999.0, 8349.0, 37247.0, 6549.0, 5499.0, 6299.0, 6199.0, 4999.0, 6999.0, 4789.0, 8799.0, 9590.0, 8999.0, 5499.0, 6990.0, 5999.0, 9970.0, 14400.0, 6499.0, 12499.0, 8199.0, 6999.0, 8799.0, 6499.0, 14499.0, 7199.0, 7799.0, 9799.0, 5890.0, 9199.0, 6236.0, 4799.0, 5499.0, 6800.0, 6525.0, 4999.0, 5999.0, 8886.0, 4995.0, 13999.0, 8499.0, 27900.0, 5395.0, 7349.0, 15999.0, 12609.0, 5365.0, 9495.0, 7799.0, 8699.0, 42990.0, 6850.0, 6120.0, 8599.0, 5865.0, 4899.0, 5490.0, 8699.0, 4999.0, 6120.0, 18999.0, 5999.0, 6199.0, 6790.0]\n",
      "\n",
      "📌 Outliers en 'actual_price' (213 valores):\n",
      "[24999.0, 21990.0, 22900.0, 19990.0, 19999.0, 45999.0, 34999.0, 12999.0, 21999.0, 47900.0, 24999.0, 14990.0, 42999.0, 30990.0, 19125.0, 39999.0, 40990.0, 52900.0, 31999.0, 40990.0, 29999.0, 65000.0, 20000.0, 23990.0, 15999.0, 44990.0, 44999.0, 27990.0, 34990.0, 49990.0, 12999.0, 65000.0, 20900.0, 15990.0, 22990.0, 47990.0, 18990.0, 11000.0, 70900.0, 35999.0, 31990.0, 9990.0, 16990.0, 59999.0, 49999.0, 56790.0, 139900.0, 85000.0, 24990.0, 49990.0, 18999.0, 69900.0, 29999.0, 34990.0, 79990.0, 35000.0, 15999.0, 54990.0, 50999.0, 28900.0, 42999.0, 19990.0, 25999.0, 14999.0, 51990.0, 69999.0, 50000.0, 19499.0, 69999.0, 19999.0, 9999.0, 28999.0, 28999.0, 11999.0, 11999.0, 11999.0, 25999.0, 17999.0, 19999.0, 9999.0, 24999.0, 20999.0, 19999.0, 10999.0, 19999.0, 11999.0, 16999.0, 18999.0, 19999.0, 11999.0, 15999.0, 9999.0, 20990.0, 24999.0, 34999.0, 19499.0, 19999.0, 9999.0, 15990.0, 33999.0, 14999.0, 38999.0, 24999.0, 14999.0, 19499.0, 17999.0, 26999.0, 20999.0, 18999.0, 28999.0, 19999.0, 17999.0, 20990.0, 29990.0, 15990.0, 21990.0, 20990.0, 13499.0, 9999.0, 13499.0, 19499.0, 9999.0, 20999.0, 15999.0, 29990.0, 13499.0, 20999.0, 27990.0, 18999.0, 9999.0, 18999.0, 20999.0, 9999.0, 15999.0, 12999.0, 20999.0, 49999.0, 32999.0, 39990.0, 11999.0, 18999.0, 9999.0, 74999.0, 11999.0, 17999.0, 11999.0, 19499.0, 9999.0, 9999.0, 16999.0, 9999.0, 29999.0, 13750.0, 21990.0, 22900.0, 9999.0, 9999.0, 9999.0, 12499.0, 19110.0, 32000.0, 24999.0, 37999.0, 9625.0, 59890.0, 13999.0, 13150.0, 15270.0, 10400.0, 9650.0, 10590.0, 11595.0, 15999.0, 9995.0, 9999.0, 14290.0, 9999.0, 12999.0, 59900.0, 19825.0, 16000.0, 14999.0, 11995.0, 23559.0, 9995.0, 12150.0, 18000.0, 9999.0, 11500.0, 11500.0, 10295.0, 24999.0, 9999.0, 11850.0, 20049.0, 24850.0, 16490.0, 59900.0, 19990.0, 10900.0, 24500.0, 23999.0, 18990.0, 12500.0, 16899.0, 75990.0, 11990.0, 13049.0, 24999.0, 29999.0, 11495.0, 10999.0, 10995.0]\n",
      "\n",
      "📌 Outliers en 'discount_percentage' (0 valores):\n",
      "[]\n",
      "\n",
      "📌 Outliers en 'rating' (74 valores):\n",
      "[3.3, 3.4, 3.5, 3.2, 3.4, 5.0, 3.3, 3.5, 3.5, 3.4, 3.0, 3.3, 3.0, 3.5, 3.3, 3.5, 3.3, 5.0, 3.5, 3.3, 3.5, 3.3, 3.3, 3.5, 2.8, 3.0, 3.5, 3.5, 3.5, 3.5, 3.5, 3.5, 3.4, 3.4, 3.3, 5.0, 3.5, 3.3, 3.5, 3.3, 3.5, 3.5, 3.5, 3.4, 3.3, 3.1, 3.3, 3.3, 4.8, 3.5, 4.8, 3.3, 3.4, 2.3, 3.1, 3.5, 2.8, 3.4, 4.8, 2.0, 3.1, 3.0, 3.4, 2.6, 3.5, 3.5, 3.4, 3.3, 3.5, 3.5, 2.9, 3.5, 3.2, 3.1]\n",
      "\n",
      "📌 Outliers en 'rating_count' (141 valores):\n",
      "[43994.0, 94363.0, 179691.0, 43994.0, 94363.0, 426973.0, 43994.0, 74976.0, 107687.0, 426973.0, 92595.0, 92595.0, 179691.0, 45238.0, 426973.0, 45238.0, 94363.0, 45238.0, 69538.0, 42301.0, 179692.0, 178817.0, 44054.0, 74977.0, 94363.0, 178912.0, 67259.0, 128311.0, 192590.0, 58162.0, 363713.0, 67259.0, 178912.0, 46399.0, 67259.0, 313836.0, 313836.0, 43993.0, 94364.0, 69622.0, 140036.0, 363713.0, 42641.0, 128311.0, 83996.0, 140036.0, 48449.0, 43994.0, 50772.0, 161679.0, 178912.0, 128311.0, 94364.0, 67950.0, 128311.0, 58506.0, 43994.0, 313832.0, 192589.0, 56098.0, 50772.0, 67260.0, 50772.0, 92588.0, 97175.0, 67260.0, 50772.0, 313832.0, 363711.0, 136954.0, 253105.0, 61314.0, 180998.0, 67262.0, 141841.0, 192587.0, 107151.0, 92995.0, 64273.0, 54315.0, 77027.0, 68664.0, 91770.0, 43994.0, 50810.0, 94364.0, 69619.0, 109864.0, 49551.0, 161677.0, 140035.0, 55747.0, 103052.0, 55192.0, 119466.0, 53464.0, 48448.0, 60026.0, 426972.0, 95116.0, 67951.0, 156638.0, 53648.0, 64705.0, 87798.0, 189104.0, 93112.0, 47521.0, 63899.0, 54405.0, 122478.0, 92588.0, 42139.0, 68409.0, 273189.0, 82356.0, 69585.0, 73005.0, 74976.0, 92925.0, 50273.0, 107686.0, 205052.0, 42775.0, 92595.0, 76042.0, 44696.0, 97174.0, 72563.0, 45237.0, 98250.0, 91188.0, 123365.0, 44994.0, 270563.0, 63350.0, 54032.0, 44050.0, 46647.0, 43070.0, 53803.0]\n"
     ]
    }
   ],
   "source": [
    "# Evita truncar la salida\n",
    "pd.set_option('display.max_rows', None)\n",
    "\n",
    "for col in numeric_cols:\n",
    "    Q1 = df[col].quantile(0.25)\n",
    "    Q3 = df[col].quantile(0.75)\n",
    "    IQR = Q3 - Q1\n",
    "    lower = Q1 - 1.5 * IQR\n",
    "    upper = Q3 + 1.5 * IQR\n",
    "\n",
    "    # Obtener lista de valores outliers\n",
    "    outliers_list = df[(df[col] < lower) | (df[col] > upper)][col].tolist()\n",
    "    \n",
    "    print(f\"\\n📌 Outliers en '{col}' ({len(outliers_list)} valores):\")\n",
    "    print(outliers_list)\n"
   ]
  },
  {
   "cell_type": "code",
   "execution_count": 49,
   "id": "803a92cc",
   "metadata": {},
   "outputs": [
    {
     "data": {
      "application/vnd.plotly.v1+json": {
       "config": {
        "plotlyServerURL": "https://plot.ly"
       },
       "data": [
        {
         "alignmentgroup": "True",
         "boxpoints": "all",
         "hovertemplate": "discounted_price=%{y}<extra></extra>",
         "jitter": 0.3,
         "legendgroup": "",
         "marker": {
          "color": "#800000",
          "opacity": 0.6,
          "size": 5
         },
         "name": "",
         "notched": false,
         "offsetgroup": "",
         "orientation": "v",
         "showlegend": false,
         "type": "box",
         "x0": " ",
         "xaxis": "x",
         "y": {
          "bdata": "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",
          "dtype": "f8"
         },
         "y0": " ",
         "yaxis": "y"
        }
       ],
       "layout": {
        "boxmode": "group",
        "height": 400,
        "legend": {
         "tracegroupgap": 0
        },
        "margin": {
         "b": 30,
         "l": 50,
         "r": 30,
         "t": 50
        },
        "template": {
         "data": {
          "bar": [
           {
            "error_x": {
             "color": "#2a3f5f"
            },
            "error_y": {
             "color": "#2a3f5f"
            },
            "marker": {
             "line": {
              "color": "white",
              "width": 0.5
             },
             "pattern": {
              "fillmode": "overlay",
              "size": 10,
              "solidity": 0.2
             }
            },
            "type": "bar"
           }
          ],
          "barpolar": [
           {
            "marker": {
             "line": {
              "color": "white",
              "width": 0.5
             },
             "pattern": {
              "fillmode": "overlay",
              "size": 10,
              "solidity": 0.2
             }
            },
            "type": "barpolar"
           }
          ],
          "carpet": [
           {
            "aaxis": {
             "endlinecolor": "#2a3f5f",
             "gridcolor": "#C8D4E3",
             "linecolor": "#C8D4E3",
             "minorgridcolor": "#C8D4E3",
             "startlinecolor": "#2a3f5f"
            },
            "baxis": {
             "endlinecolor": "#2a3f5f",
             "gridcolor": "#C8D4E3",
             "linecolor": "#C8D4E3",
             "minorgridcolor": "#C8D4E3",
             "startlinecolor": "#2a3f5f"
            },
            "type": "carpet"
           }
          ],
          "choropleth": [
           {
            "colorbar": {
             "outlinewidth": 0,
             "ticks": ""
            },
            "type": "choropleth"
           }
          ],
          "contour": [
           {
            "colorbar": {
             "outlinewidth": 0,
             "ticks": ""
            },
            "colorscale": [
             [
              0,
              "#0d0887"
             ],
             [
              0.1111111111111111,
              "#46039f"
             ],
             [
              0.2222222222222222,
              "#7201a8"
             ],
             [
              0.3333333333333333,
              "#9c179e"
             ],
             [
              0.4444444444444444,
              "#bd3786"
             ],
             [
              0.5555555555555556,
              "#d8576b"
             ],
             [
              0.6666666666666666,
              "#ed7953"
             ],
             [
              0.7777777777777778,
              "#fb9f3a"
             ],
             [
              0.8888888888888888,
              "#fdca26"
             ],
             [
              1,
              "#f0f921"
             ]
            ],
            "type": "contour"
           }
          ],
          "contourcarpet": [
           {
            "colorbar": {
             "outlinewidth": 0,
             "ticks": ""
            },
            "type": "contourcarpet"
           }
          ],
          "heatmap": [
           {
            "colorbar": {
             "outlinewidth": 0,
             "ticks": ""
            },
            "colorscale": [
             [
              0,
              "#0d0887"
             ],
             [
              0.1111111111111111,
              "#46039f"
             ],
             [
              0.2222222222222222,
              "#7201a8"
             ],
             [
              0.3333333333333333,
              "#9c179e"
             ],
             [
              0.4444444444444444,
              "#bd3786"
             ],
             [
              0.5555555555555556,
              "#d8576b"
             ],
             [
              0.6666666666666666,
              "#ed7953"
             ],
             [
              0.7777777777777778,
              "#fb9f3a"
             ],
             [
              0.8888888888888888,
              "#fdca26"
             ],
             [
              1,
              "#f0f921"
             ]
            ],
            "type": "heatmap"
           }
          ],
          "histogram": [
           {
            "marker": {
             "pattern": {
              "fillmode": "overlay",
              "size": 10,
              "solidity": 0.2
             }
            },
            "type": "histogram"
           }
          ],
          "histogram2d": [
           {
            "colorbar": {
             "outlinewidth": 0,
             "ticks": ""
            },
            "colorscale": [
             [
              0,
              "#0d0887"
             ],
             [
              0.1111111111111111,
              "#46039f"
             ],
             [
              0.2222222222222222,
              "#7201a8"
             ],
             [
              0.3333333333333333,
              "#9c179e"
             ],
             [
              0.4444444444444444,
              "#bd3786"
             ],
             [
              0.5555555555555556,
              "#d8576b"
             ],
             [
              0.6666666666666666,
              "#ed7953"
             ],
             [
              0.7777777777777778,
              "#fb9f3a"
             ],
             [
              0.8888888888888888,
              "#fdca26"
             ],
             [
              1,
              "#f0f921"
             ]
            ],
            "type": "histogram2d"
           }
          ],
          "histogram2dcontour": [
           {
            "colorbar": {
             "outlinewidth": 0,
             "ticks": ""
            },
            "colorscale": [
             [
              0,
              "#0d0887"
             ],
             [
              0.1111111111111111,
              "#46039f"
             ],
             [
              0.2222222222222222,
              "#7201a8"
             ],
             [
              0.3333333333333333,
              "#9c179e"
             ],
             [
              0.4444444444444444,
              "#bd3786"
             ],
             [
              0.5555555555555556,
              "#d8576b"
             ],
             [
              0.6666666666666666,
              "#ed7953"
             ],
             [
              0.7777777777777778,
              "#fb9f3a"
             ],
             [
              0.8888888888888888,
              "#fdca26"
             ],
             [
              1,
              "#f0f921"
             ]
            ],
            "type": "histogram2dcontour"
           }
          ],
          "mesh3d": [
           {
            "colorbar": {
             "outlinewidth": 0,
             "ticks": ""
            },
            "type": "mesh3d"
           }
          ],
          "parcoords": [
           {
            "line": {
             "colorbar": {
              "outlinewidth": 0,
              "ticks": ""
             }
            },
            "type": "parcoords"
           }
          ],
          "pie": [
           {
            "automargin": true,
            "type": "pie"
           }
          ],
          "scatter": [
           {
            "fillpattern": {
             "fillmode": "overlay",
             "size": 10,
             "solidity": 0.2
            },
            "type": "scatter"
           }
          ],
          "scatter3d": [
           {
            "line": {
             "colorbar": {
              "outlinewidth": 0,
              "ticks": ""
             }
            },
            "marker": {
             "colorbar": {
              "outlinewidth": 0,
              "ticks": ""
             }
            },
            "type": "scatter3d"
           }
          ],
          "scattercarpet": [
           {
            "marker": {
             "colorbar": {
              "outlinewidth": 0,
              "ticks": ""
             }
            },
            "type": "scattercarpet"
           }
          ],
          "scattergeo": [
           {
            "marker": {
             "colorbar": {
              "outlinewidth": 0,
              "ticks": ""
             }
            },
            "type": "scattergeo"
           }
          ],
          "scattergl": [
           {
            "marker": {
             "colorbar": {
              "outlinewidth": 0,
              "ticks": ""
             }
            },
            "type": "scattergl"
           }
          ],
          "scattermap": [
           {
            "marker": {
             "colorbar": {
              "outlinewidth": 0,
              "ticks": ""
             }
            },
            "type": "scattermap"
           }
          ],
          "scattermapbox": [
           {
            "marker": {
             "colorbar": {
              "outlinewidth": 0,
              "ticks": ""
             }
            },
            "type": "scattermapbox"
           }
          ],
          "scatterpolar": [
           {
            "marker": {
             "colorbar": {
              "outlinewidth": 0,
              "ticks": ""
             }
            },
            "type": "scatterpolar"
           }
          ],
          "scatterpolargl": [
           {
            "marker": {
             "colorbar": {
              "outlinewidth": 0,
              "ticks": ""
             }
            },
            "type": "scatterpolargl"
           }
          ],
          "scatterternary": [
           {
            "marker": {
             "colorbar": {
              "outlinewidth": 0,
              "ticks": ""
             }
            },
            "type": "scatterternary"
           }
          ],
          "surface": [
           {
            "colorbar": {
             "outlinewidth": 0,
             "ticks": ""
            },
            "colorscale": [
             [
              0,
              "#0d0887"
             ],
             [
              0.1111111111111111,
              "#46039f"
             ],
             [
              0.2222222222222222,
              "#7201a8"
             ],
             [
              0.3333333333333333,
              "#9c179e"
             ],
             [
              0.4444444444444444,
              "#bd3786"
             ],
             [
              0.5555555555555556,
              "#d8576b"
             ],
             [
              0.6666666666666666,
              "#ed7953"
             ],
             [
              0.7777777777777778,
              "#fb9f3a"
             ],
             [
              0.8888888888888888,
              "#fdca26"
             ],
             [
              1,
              "#f0f921"
             ]
            ],
            "type": "surface"
           }
          ],
          "table": [
           {
            "cells": {
             "fill": {
              "color": "#EBF0F8"
             },
             "line": {
              "color": "white"
             }
            },
            "header": {
             "fill": {
              "color": "#C8D4E3"
             },
             "line": {
              "color": "white"
             }
            },
            "type": "table"
           }
          ]
         },
         "layout": {
          "annotationdefaults": {
           "arrowcolor": "#2a3f5f",
           "arrowhead": 0,
           "arrowwidth": 1
          },
          "autotypenumbers": "strict",
          "coloraxis": {
           "colorbar": {
            "outlinewidth": 0,
            "ticks": ""
           }
          },
          "colorscale": {
           "diverging": [
            [
             0,
             "#8e0152"
            ],
            [
             0.1,
             "#c51b7d"
            ],
            [
             0.2,
             "#de77ae"
            ],
            [
             0.3,
             "#f1b6da"
            ],
            [
             0.4,
             "#fde0ef"
            ],
            [
             0.5,
             "#f7f7f7"
            ],
            [
             0.6,
             "#e6f5d0"
            ],
            [
             0.7,
             "#b8e186"
            ],
            [
             0.8,
             "#7fbc41"
            ],
            [
             0.9,
             "#4d9221"
            ],
            [
             1,
             "#276419"
            ]
           ],
           "sequential": [
            [
             0,
             "#0d0887"
            ],
            [
             0.1111111111111111,
             "#46039f"
            ],
            [
             0.2222222222222222,
             "#7201a8"
            ],
            [
             0.3333333333333333,
             "#9c179e"
            ],
            [
             0.4444444444444444,
             "#bd3786"
            ],
            [
             0.5555555555555556,
             "#d8576b"
            ],
            [
             0.6666666666666666,
             "#ed7953"
            ],
            [
             0.7777777777777778,
             "#fb9f3a"
            ],
            [
             0.8888888888888888,
             "#fdca26"
            ],
            [
             1,
             "#f0f921"
            ]
           ],
           "sequentialminus": [
            [
             0,
             "#0d0887"
            ],
            [
             0.1111111111111111,
             "#46039f"
            ],
            [
             0.2222222222222222,
             "#7201a8"
            ],
            [
             0.3333333333333333,
             "#9c179e"
            ],
            [
             0.4444444444444444,
             "#bd3786"
            ],
            [
             0.5555555555555556,
             "#d8576b"
            ],
            [
             0.6666666666666666,
             "#ed7953"
            ],
            [
             0.7777777777777778,
             "#fb9f3a"
            ],
            [
             0.8888888888888888,
             "#fdca26"
            ],
            [
             1,
             "#f0f921"
            ]
           ]
          },
          "colorway": [
           "#636efa",
           "#EF553B",
           "#00cc96",
           "#ab63fa",
           "#FFA15A",
           "#19d3f3",
           "#FF6692",
           "#B6E880",
           "#FF97FF",
           "#FECB52"
          ],
          "font": {
           "color": "#2a3f5f"
          },
          "geo": {
           "bgcolor": "white",
           "lakecolor": "white",
           "landcolor": "white",
           "showlakes": true,
           "showland": true,
           "subunitcolor": "#C8D4E3"
          },
          "hoverlabel": {
           "align": "left"
          },
          "hovermode": "closest",
          "mapbox": {
           "style": "light"
          },
          "paper_bgcolor": "white",
          "plot_bgcolor": "white",
          "polar": {
           "angularaxis": {
            "gridcolor": "#EBF0F8",
            "linecolor": "#EBF0F8",
            "ticks": ""
           },
           "bgcolor": "white",
           "radialaxis": {
            "gridcolor": "#EBF0F8",
            "linecolor": "#EBF0F8",
            "ticks": ""
           }
          },
          "scene": {
           "xaxis": {
            "backgroundcolor": "white",
            "gridcolor": "#DFE8F3",
            "gridwidth": 2,
            "linecolor": "#EBF0F8",
            "showbackground": true,
            "ticks": "",
            "zerolinecolor": "#EBF0F8"
           },
           "yaxis": {
            "backgroundcolor": "white",
            "gridcolor": "#DFE8F3",
            "gridwidth": 2,
            "linecolor": "#EBF0F8",
            "showbackground": true,
            "ticks": "",
            "zerolinecolor": "#EBF0F8"
           },
           "zaxis": {
            "backgroundcolor": "white",
            "gridcolor": "#DFE8F3",
            "gridwidth": 2,
            "linecolor": "#EBF0F8",
            "showbackground": true,
            "ticks": "",
            "zerolinecolor": "#EBF0F8"
           }
          },
          "shapedefaults": {
           "line": {
            "color": "#2a3f5f"
           }
          },
          "ternary": {
           "aaxis": {
            "gridcolor": "#DFE8F3",
            "linecolor": "#A2B1C6",
            "ticks": ""
           },
           "baxis": {
            "gridcolor": "#DFE8F3",
            "linecolor": "#A2B1C6",
            "ticks": ""
           },
           "bgcolor": "white",
           "caxis": {
            "gridcolor": "#DFE8F3",
            "linecolor": "#A2B1C6",
            "ticks": ""
           }
          },
          "title": {
           "x": 0.05
          },
          "xaxis": {
           "automargin": true,
           "gridcolor": "#EBF0F8",
           "linecolor": "#EBF0F8",
           "ticks": "",
           "title": {
            "standoff": 15
           },
           "zerolinecolor": "#EBF0F8",
           "zerolinewidth": 2
          },
          "yaxis": {
           "automargin": true,
           "gridcolor": "#EBF0F8",
           "linecolor": "#EBF0F8",
           "ticks": "",
           "title": {
            "standoff": 15
           },
           "zerolinecolor": "#EBF0F8",
           "zerolinewidth": 2
          }
         }
        },
        "title": {
         "font": {
          "color": "black",
          "family": "Arial",
          "size": 20
         },
         "text": "📦 Boxplot de discounted_price"
        },
        "xaxis": {
         "anchor": "y",
         "domain": [
          0,
          1
         ]
        },
        "yaxis": {
         "anchor": "x",
         "domain": [
          0,
          1
         ],
         "gridcolor": "lightgray",
         "showgrid": true,
         "title": {
          "text": "discounted_price"
         }
        }
       }
      }
     },
     "metadata": {},
     "output_type": "display_data"
    },
    {
     "data": {
      "application/vnd.plotly.v1+json": {
       "config": {
        "plotlyServerURL": "https://plot.ly"
       },
       "data": [
        {
         "alignmentgroup": "True",
         "boxpoints": "all",
         "hovertemplate": "actual_price=%{y}<extra></extra>",
         "jitter": 0.3,
         "legendgroup": "",
         "marker": {
          "color": "#800000",
          "opacity": 0.6,
          "size": 5
         },
         "name": "",
         "notched": false,
         "offsetgroup": "",
         "orientation": "v",
         "showlegend": false,
         "type": "box",
         "x0": " ",
         "xaxis": "x",
         "y": {
          "bdata": "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",
          "dtype": "f8"
         },
         "y0": " ",
         "yaxis": "y"
        }
       ],
       "layout": {
        "boxmode": "group",
        "height": 400,
        "legend": {
         "tracegroupgap": 0
        },
        "margin": {
         "b": 30,
         "l": 50,
         "r": 30,
         "t": 50
        },
        "template": {
         "data": {
          "bar": [
           {
            "error_x": {
             "color": "#2a3f5f"
            },
            "error_y": {
             "color": "#2a3f5f"
            },
            "marker": {
             "line": {
              "color": "white",
              "width": 0.5
             },
             "pattern": {
              "fillmode": "overlay",
              "size": 10,
              "solidity": 0.2
             }
            },
            "type": "bar"
           }
          ],
          "barpolar": [
           {
            "marker": {
             "line": {
              "color": "white",
              "width": 0.5
             },
             "pattern": {
              "fillmode": "overlay",
              "size": 10,
              "solidity": 0.2
             }
            },
            "type": "barpolar"
           }
          ],
          "carpet": [
           {
            "aaxis": {
             "endlinecolor": "#2a3f5f",
             "gridcolor": "#C8D4E3",
             "linecolor": "#C8D4E3",
             "minorgridcolor": "#C8D4E3",
             "startlinecolor": "#2a3f5f"
            },
            "baxis": {
             "endlinecolor": "#2a3f5f",
             "gridcolor": "#C8D4E3",
             "linecolor": "#C8D4E3",
             "minorgridcolor": "#C8D4E3",
             "startlinecolor": "#2a3f5f"
            },
            "type": "carpet"
           }
          ],
          "choropleth": [
           {
            "colorbar": {
             "outlinewidth": 0,
             "ticks": ""
            },
            "type": "choropleth"
           }
          ],
          "contour": [
           {
            "colorbar": {
             "outlinewidth": 0,
             "ticks": ""
            },
            "colorscale": [
             [
              0,
              "#0d0887"
             ],
             [
              0.1111111111111111,
              "#46039f"
             ],
             [
              0.2222222222222222,
              "#7201a8"
             ],
             [
              0.3333333333333333,
              "#9c179e"
             ],
             [
              0.4444444444444444,
              "#bd3786"
             ],
             [
              0.5555555555555556,
              "#d8576b"
             ],
             [
              0.6666666666666666,
              "#ed7953"
             ],
             [
              0.7777777777777778,
              "#fb9f3a"
             ],
             [
              0.8888888888888888,
              "#fdca26"
             ],
             [
              1,
              "#f0f921"
             ]
            ],
            "type": "contour"
           }
          ],
          "contourcarpet": [
           {
            "colorbar": {
             "outlinewidth": 0,
             "ticks": ""
            },
            "type": "contourcarpet"
           }
          ],
          "heatmap": [
           {
            "colorbar": {
             "outlinewidth": 0,
             "ticks": ""
            },
            "colorscale": [
             [
              0,
              "#0d0887"
             ],
             [
              0.1111111111111111,
              "#46039f"
             ],
             [
              0.2222222222222222,
              "#7201a8"
             ],
             [
              0.3333333333333333,
              "#9c179e"
             ],
             [
              0.4444444444444444,
              "#bd3786"
             ],
             [
              0.5555555555555556,
              "#d8576b"
             ],
             [
              0.6666666666666666,
              "#ed7953"
             ],
             [
              0.7777777777777778,
              "#fb9f3a"
             ],
             [
              0.8888888888888888,
              "#fdca26"
             ],
             [
              1,
              "#f0f921"
             ]
            ],
            "type": "heatmap"
           }
          ],
          "histogram": [
           {
            "marker": {
             "pattern": {
              "fillmode": "overlay",
              "size": 10,
              "solidity": 0.2
             }
            },
            "type": "histogram"
           }
          ],
          "histogram2d": [
           {
            "colorbar": {
             "outlinewidth": 0,
             "ticks": ""
            },
            "colorscale": [
             [
              0,
              "#0d0887"
             ],
             [
              0.1111111111111111,
              "#46039f"
             ],
             [
              0.2222222222222222,
              "#7201a8"
             ],
             [
              0.3333333333333333,
              "#9c179e"
             ],
             [
              0.4444444444444444,
              "#bd3786"
             ],
             [
              0.5555555555555556,
              "#d8576b"
             ],
             [
              0.6666666666666666,
              "#ed7953"
             ],
             [
              0.7777777777777778,
              "#fb9f3a"
             ],
             [
              0.8888888888888888,
              "#fdca26"
             ],
             [
              1,
              "#f0f921"
             ]
            ],
            "type": "histogram2d"
           }
          ],
          "histogram2dcontour": [
           {
            "colorbar": {
             "outlinewidth": 0,
             "ticks": ""
            },
            "colorscale": [
             [
              0,
              "#0d0887"
             ],
             [
              0.1111111111111111,
              "#46039f"
             ],
             [
              0.2222222222222222,
              "#7201a8"
             ],
             [
              0.3333333333333333,
              "#9c179e"
             ],
             [
              0.4444444444444444,
              "#bd3786"
             ],
             [
              0.5555555555555556,
              "#d8576b"
             ],
             [
              0.6666666666666666,
              "#ed7953"
             ],
             [
              0.7777777777777778,
              "#fb9f3a"
             ],
             [
              0.8888888888888888,
              "#fdca26"
             ],
             [
              1,
              "#f0f921"
             ]
            ],
            "type": "histogram2dcontour"
           }
          ],
          "mesh3d": [
           {
            "colorbar": {
             "outlinewidth": 0,
             "ticks": ""
            },
            "type": "mesh3d"
           }
          ],
          "parcoords": [
           {
            "line": {
             "colorbar": {
              "outlinewidth": 0,
              "ticks": ""
             }
            },
            "type": "parcoords"
           }
          ],
          "pie": [
           {
            "automargin": true,
            "type": "pie"
           }
          ],
          "scatter": [
           {
            "fillpattern": {
             "fillmode": "overlay",
             "size": 10,
             "solidity": 0.2
            },
            "type": "scatter"
           }
          ],
          "scatter3d": [
           {
            "line": {
             "colorbar": {
              "outlinewidth": 0,
              "ticks": ""
             }
            },
            "marker": {
             "colorbar": {
              "outlinewidth": 0,
              "ticks": ""
             }
            },
            "type": "scatter3d"
           }
          ],
          "scattercarpet": [
           {
            "marker": {
             "colorbar": {
              "outlinewidth": 0,
              "ticks": ""
             }
            },
            "type": "scattercarpet"
           }
          ],
          "scattergeo": [
           {
            "marker": {
             "colorbar": {
              "outlinewidth": 0,
              "ticks": ""
             }
            },
            "type": "scattergeo"
           }
          ],
          "scattergl": [
           {
            "marker": {
             "colorbar": {
              "outlinewidth": 0,
              "ticks": ""
             }
            },
            "type": "scattergl"
           }
          ],
          "scattermap": [
           {
            "marker": {
             "colorbar": {
              "outlinewidth": 0,
              "ticks": ""
             }
            },
            "type": "scattermap"
           }
          ],
          "scattermapbox": [
           {
            "marker": {
             "colorbar": {
              "outlinewidth": 0,
              "ticks": ""
             }
            },
            "type": "scattermapbox"
           }
          ],
          "scatterpolar": [
           {
            "marker": {
             "colorbar": {
              "outlinewidth": 0,
              "ticks": ""
             }
            },
            "type": "scatterpolar"
           }
          ],
          "scatterpolargl": [
           {
            "marker": {
             "colorbar": {
              "outlinewidth": 0,
              "ticks": ""
             }
            },
            "type": "scatterpolargl"
           }
          ],
          "scatterternary": [
           {
            "marker": {
             "colorbar": {
              "outlinewidth": 0,
              "ticks": ""
             }
            },
            "type": "scatterternary"
           }
          ],
          "surface": [
           {
            "colorbar": {
             "outlinewidth": 0,
             "ticks": ""
            },
            "colorscale": [
             [
              0,
              "#0d0887"
             ],
             [
              0.1111111111111111,
              "#46039f"
             ],
             [
              0.2222222222222222,
              "#7201a8"
             ],
             [
              0.3333333333333333,
              "#9c179e"
             ],
             [
              0.4444444444444444,
              "#bd3786"
             ],
             [
              0.5555555555555556,
              "#d8576b"
             ],
             [
              0.6666666666666666,
              "#ed7953"
             ],
             [
              0.7777777777777778,
              "#fb9f3a"
             ],
             [
              0.8888888888888888,
              "#fdca26"
             ],
             [
              1,
              "#f0f921"
             ]
            ],
            "type": "surface"
           }
          ],
          "table": [
           {
            "cells": {
             "fill": {
              "color": "#EBF0F8"
             },
             "line": {
              "color": "white"
             }
            },
            "header": {
             "fill": {
              "color": "#C8D4E3"
             },
             "line": {
              "color": "white"
             }
            },
            "type": "table"
           }
          ]
         },
         "layout": {
          "annotationdefaults": {
           "arrowcolor": "#2a3f5f",
           "arrowhead": 0,
           "arrowwidth": 1
          },
          "autotypenumbers": "strict",
          "coloraxis": {
           "colorbar": {
            "outlinewidth": 0,
            "ticks": ""
           }
          },
          "colorscale": {
           "diverging": [
            [
             0,
             "#8e0152"
            ],
            [
             0.1,
             "#c51b7d"
            ],
            [
             0.2,
             "#de77ae"
            ],
            [
             0.3,
             "#f1b6da"
            ],
            [
             0.4,
             "#fde0ef"
            ],
            [
             0.5,
             "#f7f7f7"
            ],
            [
             0.6,
             "#e6f5d0"
            ],
            [
             0.7,
             "#b8e186"
            ],
            [
             0.8,
             "#7fbc41"
            ],
            [
             0.9,
             "#4d9221"
            ],
            [
             1,
             "#276419"
            ]
           ],
           "sequential": [
            [
             0,
             "#0d0887"
            ],
            [
             0.1111111111111111,
             "#46039f"
            ],
            [
             0.2222222222222222,
             "#7201a8"
            ],
            [
             0.3333333333333333,
             "#9c179e"
            ],
            [
             0.4444444444444444,
             "#bd3786"
            ],
            [
             0.5555555555555556,
             "#d8576b"
            ],
            [
             0.6666666666666666,
             "#ed7953"
            ],
            [
             0.7777777777777778,
             "#fb9f3a"
            ],
            [
             0.8888888888888888,
             "#fdca26"
            ],
            [
             1,
             "#f0f921"
            ]
           ],
           "sequentialminus": [
            [
             0,
             "#0d0887"
            ],
            [
             0.1111111111111111,
             "#46039f"
            ],
            [
             0.2222222222222222,
             "#7201a8"
            ],
            [
             0.3333333333333333,
             "#9c179e"
            ],
            [
             0.4444444444444444,
             "#bd3786"
            ],
            [
             0.5555555555555556,
             "#d8576b"
            ],
            [
             0.6666666666666666,
             "#ed7953"
            ],
            [
             0.7777777777777778,
             "#fb9f3a"
            ],
            [
             0.8888888888888888,
             "#fdca26"
            ],
            [
             1,
             "#f0f921"
            ]
           ]
          },
          "colorway": [
           "#636efa",
           "#EF553B",
           "#00cc96",
           "#ab63fa",
           "#FFA15A",
           "#19d3f3",
           "#FF6692",
           "#B6E880",
           "#FF97FF",
           "#FECB52"
          ],
          "font": {
           "color": "#2a3f5f"
          },
          "geo": {
           "bgcolor": "white",
           "lakecolor": "white",
           "landcolor": "white",
           "showlakes": true,
           "showland": true,
           "subunitcolor": "#C8D4E3"
          },
          "hoverlabel": {
           "align": "left"
          },
          "hovermode": "closest",
          "mapbox": {
           "style": "light"
          },
          "paper_bgcolor": "white",
          "plot_bgcolor": "white",
          "polar": {
           "angularaxis": {
            "gridcolor": "#EBF0F8",
            "linecolor": "#EBF0F8",
            "ticks": ""
           },
           "bgcolor": "white",
           "radialaxis": {
            "gridcolor": "#EBF0F8",
            "linecolor": "#EBF0F8",
            "ticks": ""
           }
          },
          "scene": {
           "xaxis": {
            "backgroundcolor": "white",
            "gridcolor": "#DFE8F3",
            "gridwidth": 2,
            "linecolor": "#EBF0F8",
            "showbackground": true,
            "ticks": "",
            "zerolinecolor": "#EBF0F8"
           },
           "yaxis": {
            "backgroundcolor": "white",
            "gridcolor": "#DFE8F3",
            "gridwidth": 2,
            "linecolor": "#EBF0F8",
            "showbackground": true,
            "ticks": "",
            "zerolinecolor": "#EBF0F8"
           },
           "zaxis": {
            "backgroundcolor": "white",
            "gridcolor": "#DFE8F3",
            "gridwidth": 2,
            "linecolor": "#EBF0F8",
            "showbackground": true,
            "ticks": "",
            "zerolinecolor": "#EBF0F8"
           }
          },
          "shapedefaults": {
           "line": {
            "color": "#2a3f5f"
           }
          },
          "ternary": {
           "aaxis": {
            "gridcolor": "#DFE8F3",
            "linecolor": "#A2B1C6",
            "ticks": ""
           },
           "baxis": {
            "gridcolor": "#DFE8F3",
            "linecolor": "#A2B1C6",
            "ticks": ""
           },
           "bgcolor": "white",
           "caxis": {
            "gridcolor": "#DFE8F3",
            "linecolor": "#A2B1C6",
            "ticks": ""
           }
          },
          "title": {
           "x": 0.05
          },
          "xaxis": {
           "automargin": true,
           "gridcolor": "#EBF0F8",
           "linecolor": "#EBF0F8",
           "ticks": "",
           "title": {
            "standoff": 15
           },
           "zerolinecolor": "#EBF0F8",
           "zerolinewidth": 2
          },
          "yaxis": {
           "automargin": true,
           "gridcolor": "#EBF0F8",
           "linecolor": "#EBF0F8",
           "ticks": "",
           "title": {
            "standoff": 15
           },
           "zerolinecolor": "#EBF0F8",
           "zerolinewidth": 2
          }
         }
        },
        "title": {
         "font": {
          "color": "black",
          "family": "Arial",
          "size": 20
         },
         "text": "📦 Boxplot de actual_price"
        },
        "xaxis": {
         "anchor": "y",
         "domain": [
          0,
          1
         ]
        },
        "yaxis": {
         "anchor": "x",
         "domain": [
          0,
          1
         ],
         "gridcolor": "lightgray",
         "showgrid": true,
         "title": {
          "text": "actual_price"
         }
        }
       }
      }
     },
     "metadata": {},
     "output_type": "display_data"
    },
    {
     "data": {
      "application/vnd.plotly.v1+json": {
       "config": {
        "plotlyServerURL": "https://plot.ly"
       },
       "data": [
        {
         "alignmentgroup": "True",
         "boxpoints": "all",
         "hovertemplate": "discount_percentage=%{y}<extra></extra>",
         "jitter": 0.3,
         "legendgroup": "",
         "marker": {
          "color": "#800000",
          "opacity": 0.6,
          "size": 5
         },
         "name": "",
         "notched": false,
         "offsetgroup": "",
         "orientation": "v",
         "showlegend": false,
         "type": "box",
         "x0": " ",
         "xaxis": "x",
         "y": {
          "bdata": "QCtaNT1VQRcyITc/RT08DSwmPCcuLClGKkgZGTNGSUBBAFBVNVAcM0YrQCZGQzojPDItQD4uKzY2G004Th9WPSxOPi8vRT0qJU08PDdBOkBALD4/SxkgKVBEQhY5UDYRRUEqNE01QxtBPEFGKlg/SSE8UC8jQVVLFD8vNRs1PkAqOx88SSg2Jkk6ADJAKygsFz00LB8vNkUaPiYyGSk6OCBCRj8dS0VTLiYsHz9DUDxHQEc8OzkPNTomNUI1TDBBIEsvSzAfKTdSP0JBFhk/KktCIz0/PEY7HFNBK0RDMjIuOTpYNkk3JCpLTR04O0QyN0I8MlM/WS1XLDgsP0ZMIypGPz05RiM8ABhQOyQrHEE0NTw8IjwbMiUmUCg5WC5LMjswOyhGPSkyMjs0Rz4/TlAtJQ8tQiM/F049Oz8mNjwyADk0SwszLkE9MBQhP1tQSwccAAAcHCs+E08oFUwZSUEvFSgwQRw8UR0vHFtOIBVbQBcYWxlITDIrElBbGTETQlAaFCUrMks1PRFHUEdBHD4ePFVQRgBaVBsKIDwmE0NEHEEbPksXISMcPBw3Fj4qTE0aEhU8UQYwFh4/JhwaQkQWHjIWEj0OPE9LQkE0Pk4NFQAuQhYmSzwTRlFSIUY2QRxBEU5RLCxVGg08TShSSk8eBBMdIDJGM0NOK1AgRhNMHVU6DlU1OktUDQVQRUJKRjojLhMKDTk1SVAAPhxaGxlWIUsySko2WCsgJipaFVEQS0VKTTwVSTE8NzcdMk44ORFSS08cSD8/Q1BNOCEIOT4rPEFNPyhFTzJaSUQ7MjxRQ0VONjxAEAAVQUxFLCtQMhJLITUeUEs9PkdQPgBCRTxKVQZaV0BMOFMRGw9XQ05QHEEFPCtCMkAcUBIXNjQ2PDcKODw+Kxg5MjcmRQJNIRQ9LyE8OUReBAYmDS4pSwBGPD8PLzYAKy1BJyQyKDsYUBQsKRoyDkYoNyFISToeUSAZUwBBVT9HQEYrGTVLDDYrNzctJABQHB4UDhM4FEo8GUInRjxQUDIxFB9CVVVJCjM5TUwsMxYzRhgXJjcyTSggLElGQDk8PgAyKQseQzIcJjtAFi43FUEmMQBLI0ApQSoAFhVQADw1UFVFJisSPhk/BQAzRiMAKE9DDzY+PDpQMEsyUgImWEE5CDJGHkIKKyg6NT9OMhUAABc+TDkALQpCGT4ZQUAmKg03IxgrEjo8RSoZIkoXNQ9aCi83AE08ODg1EExOSyREMihWOCRJOj1CGVBLNS4AMgAsTBgmKhAqMDtYIh8AERE+Ig4AM0VFAB0ZUD0yTzpNADwOMEk+PC83CjckMgA4RjobADkAAEs3DS5LQQVAJkI8P1BCRjIwHSg2Wik8KAowLxYyCzI3MCo1LjgoOj8YJi0yUBk4KTdBCCw3MD0MJRUnMhoiKD42KgAyNw4tCzsYPC4nISgbJTBBJi8wIjwALD0iGhwyMxQkLw4QRyoYFwAjGg4LNjMSORBHJyghIykuAAAwPi8kLRQwHTwaIQo3Ox8cFD4wJik0Ek4fMDAqMy03AC8rNAAzIC8nMTEoFwAfPCgUL08ATAsjMTwqNxoYKSQxSjodJSY8QCw6IzUdDwwlKzFNNQsuPTIbMR0pHAA4Jy4+FDIrQj4nRiYpHAQNFC8TIjcWMUQ1GyYfNAwnJyEHNzozETI3KQ8GEUkAPTYQNCglOBI3KRAOJS45Nz9NGBpQMiYsQxYtKBk0SywwAxUAMDUDNDAcOisxTTkySS0oOiEcLUQjKD4ZGz4pNRUhNy8SJSUzHAkeOg41MiY8KykrMSsALjYILSsdN0AzTCciKTYyHSZFFjxWH0c1CBwtLCEjBB85PhEdMjUtOT4ZLRsaMCE2Hi4lK04yGAMhMRsoUDMhIzs3OzsLJjs8GB8lDzAuMgwhLCYoMhIcETEmJysrSDcgOR0yHjsAO1A7GRwaFg==",
          "dtype": "i1"
         },
         "y0": " ",
         "yaxis": "y"
        }
       ],
       "layout": {
        "boxmode": "group",
        "height": 400,
        "legend": {
         "tracegroupgap": 0
        },
        "margin": {
         "b": 30,
         "l": 50,
         "r": 30,
         "t": 50
        },
        "template": {
         "data": {
          "bar": [
           {
            "error_x": {
             "color": "#2a3f5f"
            },
            "error_y": {
             "color": "#2a3f5f"
            },
            "marker": {
             "line": {
              "color": "white",
              "width": 0.5
             },
             "pattern": {
              "fillmode": "overlay",
              "size": 10,
              "solidity": 0.2
             }
            },
            "type": "bar"
           }
          ],
          "barpolar": [
           {
            "marker": {
             "line": {
              "color": "white",
              "width": 0.5
             },
             "pattern": {
              "fillmode": "overlay",
              "size": 10,
              "solidity": 0.2
             }
            },
            "type": "barpolar"
           }
          ],
          "carpet": [
           {
            "aaxis": {
             "endlinecolor": "#2a3f5f",
             "gridcolor": "#C8D4E3",
             "linecolor": "#C8D4E3",
             "minorgridcolor": "#C8D4E3",
             "startlinecolor": "#2a3f5f"
            },
            "baxis": {
             "endlinecolor": "#2a3f5f",
             "gridcolor": "#C8D4E3",
             "linecolor": "#C8D4E3",
             "minorgridcolor": "#C8D4E3",
             "startlinecolor": "#2a3f5f"
            },
            "type": "carpet"
           }
          ],
          "choropleth": [
           {
            "colorbar": {
             "outlinewidth": 0,
             "ticks": ""
            },
            "type": "choropleth"
           }
          ],
          "contour": [
           {
            "colorbar": {
             "outlinewidth": 0,
             "ticks": ""
            },
            "colorscale": [
             [
              0,
              "#0d0887"
             ],
             [
              0.1111111111111111,
              "#46039f"
             ],
             [
              0.2222222222222222,
              "#7201a8"
             ],
             [
              0.3333333333333333,
              "#9c179e"
             ],
             [
              0.4444444444444444,
              "#bd3786"
             ],
             [
              0.5555555555555556,
              "#d8576b"
             ],
             [
              0.6666666666666666,
              "#ed7953"
             ],
             [
              0.7777777777777778,
              "#fb9f3a"
             ],
             [
              0.8888888888888888,
              "#fdca26"
             ],
             [
              1,
              "#f0f921"
             ]
            ],
            "type": "contour"
           }
          ],
          "contourcarpet": [
           {
            "colorbar": {
             "outlinewidth": 0,
             "ticks": ""
            },
            "type": "contourcarpet"
           }
          ],
          "heatmap": [
           {
            "colorbar": {
             "outlinewidth": 0,
             "ticks": ""
            },
            "colorscale": [
             [
              0,
              "#0d0887"
             ],
             [
              0.1111111111111111,
              "#46039f"
             ],
             [
              0.2222222222222222,
              "#7201a8"
             ],
             [
              0.3333333333333333,
              "#9c179e"
             ],
             [
              0.4444444444444444,
              "#bd3786"
             ],
             [
              0.5555555555555556,
              "#d8576b"
             ],
             [
              0.6666666666666666,
              "#ed7953"
             ],
             [
              0.7777777777777778,
              "#fb9f3a"
             ],
             [
              0.8888888888888888,
              "#fdca26"
             ],
             [
              1,
              "#f0f921"
             ]
            ],
            "type": "heatmap"
           }
          ],
          "histogram": [
           {
            "marker": {
             "pattern": {
              "fillmode": "overlay",
              "size": 10,
              "solidity": 0.2
             }
            },
            "type": "histogram"
           }
          ],
          "histogram2d": [
           {
            "colorbar": {
             "outlinewidth": 0,
             "ticks": ""
            },
            "colorscale": [
             [
              0,
              "#0d0887"
             ],
             [
              0.1111111111111111,
              "#46039f"
             ],
             [
              0.2222222222222222,
              "#7201a8"
             ],
             [
              0.3333333333333333,
              "#9c179e"
             ],
             [
              0.4444444444444444,
              "#bd3786"
             ],
             [
              0.5555555555555556,
              "#d8576b"
             ],
             [
              0.6666666666666666,
              "#ed7953"
             ],
             [
              0.7777777777777778,
              "#fb9f3a"
             ],
             [
              0.8888888888888888,
              "#fdca26"
             ],
             [
              1,
              "#f0f921"
             ]
            ],
            "type": "histogram2d"
           }
          ],
          "histogram2dcontour": [
           {
            "colorbar": {
             "outlinewidth": 0,
             "ticks": ""
            },
            "colorscale": [
             [
              0,
              "#0d0887"
             ],
             [
              0.1111111111111111,
              "#46039f"
             ],
             [
              0.2222222222222222,
              "#7201a8"
             ],
             [
              0.3333333333333333,
              "#9c179e"
             ],
             [
              0.4444444444444444,
              "#bd3786"
             ],
             [
              0.5555555555555556,
              "#d8576b"
             ],
             [
              0.6666666666666666,
              "#ed7953"
             ],
             [
              0.7777777777777778,
              "#fb9f3a"
             ],
             [
              0.8888888888888888,
              "#fdca26"
             ],
             [
              1,
              "#f0f921"
             ]
            ],
            "type": "histogram2dcontour"
           }
          ],
          "mesh3d": [
           {
            "colorbar": {
             "outlinewidth": 0,
             "ticks": ""
            },
            "type": "mesh3d"
           }
          ],
          "parcoords": [
           {
            "line": {
             "colorbar": {
              "outlinewidth": 0,
              "ticks": ""
             }
            },
            "type": "parcoords"
           }
          ],
          "pie": [
           {
            "automargin": true,
            "type": "pie"
           }
          ],
          "scatter": [
           {
            "fillpattern": {
             "fillmode": "overlay",
             "size": 10,
             "solidity": 0.2
            },
            "type": "scatter"
           }
          ],
          "scatter3d": [
           {
            "line": {
             "colorbar": {
              "outlinewidth": 0,
              "ticks": ""
             }
            },
            "marker": {
             "colorbar": {
              "outlinewidth": 0,
              "ticks": ""
             }
            },
            "type": "scatter3d"
           }
          ],
          "scattercarpet": [
           {
            "marker": {
             "colorbar": {
              "outlinewidth": 0,
              "ticks": ""
             }
            },
            "type": "scattercarpet"
           }
          ],
          "scattergeo": [
           {
            "marker": {
             "colorbar": {
              "outlinewidth": 0,
              "ticks": ""
             }
            },
            "type": "scattergeo"
           }
          ],
          "scattergl": [
           {
            "marker": {
             "colorbar": {
              "outlinewidth": 0,
              "ticks": ""
             }
            },
            "type": "scattergl"
           }
          ],
          "scattermap": [
           {
            "marker": {
             "colorbar": {
              "outlinewidth": 0,
              "ticks": ""
             }
            },
            "type": "scattermap"
           }
          ],
          "scattermapbox": [
           {
            "marker": {
             "colorbar": {
              "outlinewidth": 0,
              "ticks": ""
             }
            },
            "type": "scattermapbox"
           }
          ],
          "scatterpolar": [
           {
            "marker": {
             "colorbar": {
              "outlinewidth": 0,
              "ticks": ""
             }
            },
            "type": "scatterpolar"
           }
          ],
          "scatterpolargl": [
           {
            "marker": {
             "colorbar": {
              "outlinewidth": 0,
              "ticks": ""
             }
            },
            "type": "scatterpolargl"
           }
          ],
          "scatterternary": [
           {
            "marker": {
             "colorbar": {
              "outlinewidth": 0,
              "ticks": ""
             }
            },
            "type": "scatterternary"
           }
          ],
          "surface": [
           {
            "colorbar": {
             "outlinewidth": 0,
             "ticks": ""
            },
            "colorscale": [
             [
              0,
              "#0d0887"
             ],
             [
              0.1111111111111111,
              "#46039f"
             ],
             [
              0.2222222222222222,
              "#7201a8"
             ],
             [
              0.3333333333333333,
              "#9c179e"
             ],
             [
              0.4444444444444444,
              "#bd3786"
             ],
             [
              0.5555555555555556,
              "#d8576b"
             ],
             [
              0.6666666666666666,
              "#ed7953"
             ],
             [
              0.7777777777777778,
              "#fb9f3a"
             ],
             [
              0.8888888888888888,
              "#fdca26"
             ],
             [
              1,
              "#f0f921"
             ]
            ],
            "type": "surface"
           }
          ],
          "table": [
           {
            "cells": {
             "fill": {
              "color": "#EBF0F8"
             },
             "line": {
              "color": "white"
             }
            },
            "header": {
             "fill": {
              "color": "#C8D4E3"
             },
             "line": {
              "color": "white"
             }
            },
            "type": "table"
           }
          ]
         },
         "layout": {
          "annotationdefaults": {
           "arrowcolor": "#2a3f5f",
           "arrowhead": 0,
           "arrowwidth": 1
          },
          "autotypenumbers": "strict",
          "coloraxis": {
           "colorbar": {
            "outlinewidth": 0,
            "ticks": ""
           }
          },
          "colorscale": {
           "diverging": [
            [
             0,
             "#8e0152"
            ],
            [
             0.1,
             "#c51b7d"
            ],
            [
             0.2,
             "#de77ae"
            ],
            [
             0.3,
             "#f1b6da"
            ],
            [
             0.4,
             "#fde0ef"
            ],
            [
             0.5,
             "#f7f7f7"
            ],
            [
             0.6,
             "#e6f5d0"
            ],
            [
             0.7,
             "#b8e186"
            ],
            [
             0.8,
             "#7fbc41"
            ],
            [
             0.9,
             "#4d9221"
            ],
            [
             1,
             "#276419"
            ]
           ],
           "sequential": [
            [
             0,
             "#0d0887"
            ],
            [
             0.1111111111111111,
             "#46039f"
            ],
            [
             0.2222222222222222,
             "#7201a8"
            ],
            [
             0.3333333333333333,
             "#9c179e"
            ],
            [
             0.4444444444444444,
             "#bd3786"
            ],
            [
             0.5555555555555556,
             "#d8576b"
            ],
            [
             0.6666666666666666,
             "#ed7953"
            ],
            [
             0.7777777777777778,
             "#fb9f3a"
            ],
            [
             0.8888888888888888,
             "#fdca26"
            ],
            [
             1,
             "#f0f921"
            ]
           ],
           "sequentialminus": [
            [
             0,
             "#0d0887"
            ],
            [
             0.1111111111111111,
             "#46039f"
            ],
            [
             0.2222222222222222,
             "#7201a8"
            ],
            [
             0.3333333333333333,
             "#9c179e"
            ],
            [
             0.4444444444444444,
             "#bd3786"
            ],
            [
             0.5555555555555556,
             "#d8576b"
            ],
            [
             0.6666666666666666,
             "#ed7953"
            ],
            [
             0.7777777777777778,
             "#fb9f3a"
            ],
            [
             0.8888888888888888,
             "#fdca26"
            ],
            [
             1,
             "#f0f921"
            ]
           ]
          },
          "colorway": [
           "#636efa",
           "#EF553B",
           "#00cc96",
           "#ab63fa",
           "#FFA15A",
           "#19d3f3",
           "#FF6692",
           "#B6E880",
           "#FF97FF",
           "#FECB52"
          ],
          "font": {
           "color": "#2a3f5f"
          },
          "geo": {
           "bgcolor": "white",
           "lakecolor": "white",
           "landcolor": "white",
           "showlakes": true,
           "showland": true,
           "subunitcolor": "#C8D4E3"
          },
          "hoverlabel": {
           "align": "left"
          },
          "hovermode": "closest",
          "mapbox": {
           "style": "light"
          },
          "paper_bgcolor": "white",
          "plot_bgcolor": "white",
          "polar": {
           "angularaxis": {
            "gridcolor": "#EBF0F8",
            "linecolor": "#EBF0F8",
            "ticks": ""
           },
           "bgcolor": "white",
           "radialaxis": {
            "gridcolor": "#EBF0F8",
            "linecolor": "#EBF0F8",
            "ticks": ""
           }
          },
          "scene": {
           "xaxis": {
            "backgroundcolor": "white",
            "gridcolor": "#DFE8F3",
            "gridwidth": 2,
            "linecolor": "#EBF0F8",
            "showbackground": true,
            "ticks": "",
            "zerolinecolor": "#EBF0F8"
           },
           "yaxis": {
            "backgroundcolor": "white",
            "gridcolor": "#DFE8F3",
            "gridwidth": 2,
            "linecolor": "#EBF0F8",
            "showbackground": true,
            "ticks": "",
            "zerolinecolor": "#EBF0F8"
           },
           "zaxis": {
            "backgroundcolor": "white",
            "gridcolor": "#DFE8F3",
            "gridwidth": 2,
            "linecolor": "#EBF0F8",
            "showbackground": true,
            "ticks": "",
            "zerolinecolor": "#EBF0F8"
           }
          },
          "shapedefaults": {
           "line": {
            "color": "#2a3f5f"
           }
          },
          "ternary": {
           "aaxis": {
            "gridcolor": "#DFE8F3",
            "linecolor": "#A2B1C6",
            "ticks": ""
           },
           "baxis": {
            "gridcolor": "#DFE8F3",
            "linecolor": "#A2B1C6",
            "ticks": ""
           },
           "bgcolor": "white",
           "caxis": {
            "gridcolor": "#DFE8F3",
            "linecolor": "#A2B1C6",
            "ticks": ""
           }
          },
          "title": {
           "x": 0.05
          },
          "xaxis": {
           "automargin": true,
           "gridcolor": "#EBF0F8",
           "linecolor": "#EBF0F8",
           "ticks": "",
           "title": {
            "standoff": 15
           },
           "zerolinecolor": "#EBF0F8",
           "zerolinewidth": 2
          },
          "yaxis": {
           "automargin": true,
           "gridcolor": "#EBF0F8",
           "linecolor": "#EBF0F8",
           "ticks": "",
           "title": {
            "standoff": 15
           },
           "zerolinecolor": "#EBF0F8",
           "zerolinewidth": 2
          }
         }
        },
        "title": {
         "font": {
          "color": "black",
          "family": "Arial",
          "size": 20
         },
         "text": "📦 Boxplot de discount_percentage"
        },
        "xaxis": {
         "anchor": "y",
         "domain": [
          0,
          1
         ]
        },
        "yaxis": {
         "anchor": "x",
         "domain": [
          0,
          1
         ],
         "gridcolor": "lightgray",
         "showgrid": true,
         "title": {
          "text": "discount_percentage"
         }
        }
       }
      }
     },
     "metadata": {},
     "output_type": "display_data"
    },
    {
     "data": {
      "application/vnd.plotly.v1+json": {
       "config": {
        "plotlyServerURL": "https://plot.ly"
       },
       "data": [
        {
         "alignmentgroup": "True",
         "boxpoints": "all",
         "hovertemplate": "rating=%{y}<extra></extra>",
         "jitter": 0.3,
         "legendgroup": "",
         "marker": {
          "color": "#800000",
          "opacity": 0.6,
          "size": 5
         },
         "name": "",
         "notched": false,
         "offsetgroup": "",
         "orientation": "v",
         "showlegend": false,
         "type": "box",
         "x0": " ",
         "xaxis": "x",
         "y": {
          "bdata": "zczMzMzMEEAAAAAAAAAQQDMzMzMzMw9AzczMzMzMEEDNzMzMzMwQQDMzMzMzMw9AZmZmZmZmEEAzMzMzMzMRQM3MzMzMzBBAAAAAAAAAEEAzMzMzMzMRQM3MzMzMzBBAmpmZmZmZEUDNzMzMzMwQQGZmZmZmZhBAmpmZmZmZEUDNzMzMzMwQQAAAAAAAABBAZmZmZmZmEEAzMzMzMzMRQAAAAAAAABJAmpmZmZmZDUAzMzMzMzMRQAAAAAAAABBAMzMzMzMzEUDNzMzMzMwQQM3MzMzMzBBAAAAAAAAAEECamZmZmZkRQDMzMzMzMxFAAAAAAAAAEkAAAAAAAAAQQDMzMzMzMxFAMzMzMzMzEUAzMzMzMzMPQDMzMzMzMw9AmpmZmZmZEUAAAAAAAAAQQM3MzMzMzBBAzczMzMzMEEAAAAAAAAASQDMzMzMzMxFAzczMzMzMEEAzMzMzMzMRQAAAAAAAABBAZmZmZmZmCkBmZmZmZmYQQJqZmZmZmRFAzczMzMzMDEDNzMzMzMwQQJqZmZmZmRFAzczMzMzMEEAzMzMzMzMRQM3MzMzMzBBAZmZmZmZmEECamZmZmZkNQM3MzMzMzBBAzczMzMzMEEDNzMzMzMwQQDMzMzMzMxFAmpmZmZmZDUAzMzMzMzMRQAAAAAAAABBAzczMzMzMEEDNzMzMzMwQQJqZmZmZmRFAZmZmZmZmEEAzMzMzMzMRQM3MzMzMzBBAMzMzMzMzEUAAAAAAAAASQGZmZmZmZhBAzczMzMzMEEAAAAAAAAAQQGZmZmZmZhBAZmZmZmZmEEAAAAAAAAAQQGZmZmZmZhBAMzMzMzMzD0AAAAAAAAAQQM3MzMzMzBBAAAAAAAAAEEAzMzMzMzMLQJqZmZmZmRFAzczMzMzMEEDNzMzMzMwQQDMzMzMzMxFAMzMzMzMzEUAAAAAAAAASQM3MzMzMzBBAzczMzMzMDEDNzMzMzMwQQM3MzMzMzBBAZmZmZmZmEEDNzMzMzMwQQJqZmZmZmQ1AZmZmZmZmDkCamZmZmZkNQAAAAAAAABJAZmZmZmZmEEAzMzMzMzMRQDMzMzMzMxFAAAAAAAAAEEDNzMzMzMwQQM3MzMzMzBBAMzMzMzMzEUDNzMzMzMwQQDMzMzMzMxFAMzMzMzMzEUAzMzMzMzMPQGZmZmZmZhBAMzMzMzMzEUAzMzMzMzMRQGZmZmZmZhBAAAAAAAAAEkBmZmZmZmYQQM3MzMzMzAxAAAAAAAAADEAAAAAAAAAQQGZmZmZmZg5AmpmZmZmZEUCamZmZmZkNQDMzMzMzMxFAZmZmZmZmEEDNzMzMzMwQQGZmZmZmZhBAMzMzMzMzEUDNzMzMzMwQQM3MzMzMzBBAmpmZmZmZEUAzMzMzMzMRQDMzMzMzMxFAAAAAAAAAEEAzMzMzMzMPQM3MzMzMzBBAMzMzMzMzEUAzMzMzMzMPQGZmZmZmZhJAMzMzMzMzD0AzMzMzMzMRQGZmZmZmZhBAmpmZmZmZEUCamZmZmZkJQM3MzMzMzBBAzczMzMzMEECamZmZmZkNQAAAAAAAABJAzczMzMzMEEDNzMzMzMwQQM3MzMzMzBBAZmZmZmZmEEAzMzMzMzMRQDMzMzMzMxFAMzMzMzMzEUAzMzMzMzMLQDMzMzMzMxFAmpmZmZmZEUAzMzMzMzMPQGZmZmZmZhBAMzMzMzMzD0AAAAAAAAAQQDMzMzMzMxFAAAAAAAAAEEAzMzMzMzMPQAAAAAAAABJAMzMzMzMzD0DNzMzMzMwQQAAAAAAAABBAMzMzMzMzEUAAAAAAAAAQQJqZmZmZmRFAMzMzMzMzEUAAAAAAAAAQQDMzMzMzMxFAAAAAAAAAFECamZmZmZkNQAAAAAAAABBAZmZmZmZmEEAAAAAAAAAQQGZmZmZmZgpAZmZmZmZmDkBmZmZmZmYQQGZmZmZmZhBAmpmZmZmZEUAzMzMzMzMRQDMzMzMzMxFAmpmZmZmZEUAzMzMzMzMRQDMzMzMzMw9AzczMzMzMEEDNzMzMzMwQQGZmZmZmZhBAMzMzMzMzEUCamZmZmZkNQGZmZmZmZhBAMzMzMzMzD0AAAAAAAAAQQM3MzMzMzBBAmpmZmZmZEUBmZmZmZmYQQDMzMzMzMxFAZmZmZmZmDkCamZmZmZkRQAAAAAAAABBAmpmZmZmZEUAAAAAAAAAQQM3MzMzMzBBAMzMzMzMzD0CamZmZmZkNQM3MzMzMzAxAAAAAAAAAEEAAAAAAAAAMQAAAAAAAABJAzczMzMzMEEBmZmZmZmYOQGZmZmZmZg5AZmZmZmZmEEAzMzMzMzMRQJqZmZmZmRFAMzMzMzMzD0DNzMzMzMwQQGZmZmZmZg5AZmZmZmZmEEBmZmZmZmYQQDMzMzMzMxFAmpmZmZmZDUAAAAAAAAAQQM3MzMzMzBBAZmZmZmZmEEAzMzMzMzMRQJqZmZmZmRFAMzMzMzMzEUAzMzMzMzMRQAAAAAAAAAxAMzMzMzMzD0AAAAAAAAASQDMzMzMzMwtAAAAAAAAAEEAAAAAAAAAQQJqZmZmZmRFAAAAAAAAAEEAzMzMzMzMRQAAAAAAAABBAzczMzMzMEEBmZmZmZmYOQJqZmZmZmRFAMzMzMzMzD0DNzMzMzMwQQDMzMzMzMw9AzczMzMzMEkDNzMzMzMwMQJqZmZmZmQ1AzczMzMzMEEAAAAAAAAAQQM3MzMzMzAxAMzMzMzMzEUDNzMzMzMwQQDMzMzMzMxFAzczMzMzMEEDNzMzMzMwQQJqZmZmZmRFAzczMzMzMEECamZmZmZkRQAAAAAAAAAhAAAAAAAAAEkAzMzMzMzMRQM3MzMzMzBBAmpmZmZmZEUAAAAAAAAAQQGZmZmZmZg5AMzMzMzMzEUDNzMzMzMwQQGZmZmZmZhBAAAAAAAAAEEDNzMzMzMwQQGZmZmZmZgpAMzMzMzMzEUBmZmZmZmYOQM3MzMzMzBBAmpmZmZmZDUAzMzMzMzMRQDMzMzMzMw9AAAAAAAAACEAzMzMzMzMRQAAAAAAAAAxAMzMzMzMzD0AAAAAAAAAQQDMzMzMzMxFAZmZmZmZmDkAzMzMzMzMRQGZmZmZmZgpAAAAAAAAAEkBmZmZmZmYQQM3MzMzMzBBAZmZmZmZmEECamZmZmZkRQM3MzMzMzBBAMzMzMzMzD0AAAAAAAAAQQAAAAAAAABJAmpmZmZmZDUDNzMzMzMwQQM3MzMzMzBBAzczMzMzMEEAzMzMzMzMRQJqZmZmZmRFAzczMzMzMEEAzMzMzMzMRQJqZmZmZmQ1AMzMzMzMzEUDNzMzMzMwQQJqZmZmZmRFAAAAAAAAADEBmZmZmZmYQQDMzMzMzMxFAzczMzMzMEEAAAAAAAAAQQDMzMzMzMw9AZmZmZmZmCkBmZmZmZmYOQAAAAAAAABBAMzMzMzMzEUAzMzMzMzMPQM3MzMzMzBBAAAAAAAAAFEBmZmZmZmYQQDMzMzMzMw9AzczMzMzMEEAzMzMzMzMRQGZmZmZmZg5AMzMzMzMzEUCamZmZmZkRQDMzMzMzMxFAMzMzMzMzEUDNzMzMzMwQQDMzMzMzMxFAZmZmZmZmDkAzMzMzMzMRQAAAAAAAABBAMzMzMzMzEUAzMzMzMzMRQAAAAAAAABBAAAAAAAAAEECamZmZmZkRQGZmZmZmZhBAAAAAAAAAEEAzMzMzMzMPQGZmZmZmZhBAzczMzMzMEEAzMzMzMzMPQAAAAAAAABBAAAAAAAAAEEBmZmZmZmYQQJqZmZmZmRFAzczMzMzMEEAzMzMzMzMRQDMzMzMzMxFAMzMzMzMzD0CamZmZmZkRQAAAAAAAABBAzczMzMzMEEBmZmZmZmYQQJqZmZmZmRFAZmZmZmZmEEDNzMzMzMwQQM3MzMzMzBBAZmZmZmZmEEAAAAAAAAAQQM3MzMzMzBBAzczMzMzMEEBmZmZmZmYQQGZmZmZmZhBAzczMzMzMEEAAAAAAAAAQQDMzMzMzMxFAMzMzMzMzEUBmZmZmZmYQQAAAAAAAABBAZmZmZmZmEEAzMzMzMzMPQM3MzMzMzBBAAAAAAAAAEECamZmZmZkRQM3MzMzMzBBAZmZmZmZmDkAzMzMzMzMRQM3MzMzMzBBAMzMzMzMzD0CamZmZmZkRQAAAAAAAABBAAAAAAAAAEEBmZmZmZmYOQM3MzMzMzBBAzczMzMzMEECamZmZmZkRQM3MzMzMzBBAAAAAAAAAEEAzMzMzMzMRQGZmZmZmZhBAZmZmZmZmEEBmZmZmZmYQQGZmZmZmZhBAmpmZmZmZEUAzMzMzMzMPQDMzMzMzMxFAAAAAAAAAEEAzMzMzMzMRQAAAAAAAABBAzczMzMzMDEBmZmZmZmYQQM3MzMzMzBBAZmZmZmZmEEBmZmZmZmYQQAAAAAAAABBAAAAAAAAAEEAAAAAAAAAMQDMzMzMzMxFAZmZmZmZmEEBmZmZmZmYQQGZmZmZmZhBAZmZmZmZmEEBmZmZmZmYOQDMzMzMzMxFAAAAAAAAAEEDNzMzMzMwQQGZmZmZmZhBAZmZmZmZmEEBmZmZmZmYQQDMzMzMzMxFAMzMzMzMzD0AAAAAAAAAQQAAAAAAAABJAAAAAAAAAEEAAAAAAAAAQQGZmZmZmZhBAZmZmZmZmEEAzMzMzMzMPQGZmZmZmZhBAZmZmZmZmEEAAAAAAAAAQQDMzMzMzMxFAAAAAAAAAEEBmZmZmZmYQQM3MzMzMzBBAAAAAAAAAEEBmZmZmZmYQQM3MzMzMzBBAZmZmZmZmEkAAAAAAAAAQQAAAAAAAABBAMzMzMzMzEUAzMzMzMzMRQM3MzMzMzBBAAAAAAAAAEEDNzMzMzMwQQAAAAAAAABBAZmZmZmZmEEAzMzMzMzMPQGZmZmZmZg5AzczMzMzMEkAzMzMzMzMRQM3MzMzMzBBAZmZmZmZmEEBmZmZmZmYKQJqZmZmZmRFAAAAAAAAAEEDNzMzMzMwQQAAAAAAAABJAZmZmZmZmEkDNzMzMzMwQQAAAAAAAABBAmpmZmZmZDUBmZmZmZmYQQGZmZmZmZhBAzczMzMzMEEDNzMzMzMwQQAAAAAAAABJAZmZmZmZmDkAAAAAAAAAQQGZmZmZmZhBAZmZmZmZmDkBmZmZmZmYQQGZmZmZmZg5AzczMzMzMEEDNzMzMzMwQQM3MzMzMzBBAAAAAAAAAEEAAAAAAAAAMQDMzMzMzMxFAZmZmZmZmEEAzMzMzMzMPQDMzMzMzMw9AZmZmZmZmCkAAAAAAAAAQQAAAAAAAABBAAAAAAAAAEEAzMzMzMzMPQDMzMzMzMxFAZmZmZmZmEEBmZmZmZmYQQDMzMzMzMxFAZmZmZmZmEEBmZmZmZmYQQDMzMzMzMxFAmpmZmZmZEUDNzMzMzMwQQGZmZmZmZgpAmpmZmZmZEUAzMzMzMzMRQGZmZmZmZhBAAAAAAAAAEEBmZmZmZmYQQDMzMzMzMxFAZmZmZmZmDkAzMzMzMzMPQJqZmZmZmQ1AAAAAAAAAEEDNzMzMzMwQQJqZmZmZmRFAMzMzMzMzD0AAAAAAAAASQM3MzMzMzBBAMzMzMzMzD0DNzMzMzMwQQGZmZmZmZhBAZmZmZmZmEEAzMzMzMzMRQGZmZmZmZhBAMzMzMzMzEUDNzMzMzMwMQGZmZmZmZhBAAAAAAAAAEEBmZmZmZmYQQDMzMzMzMxFAMzMzMzMzD0BmZmZmZmYQQGZmZmZmZhBAmpmZmZmZEUBmZmZmZmYOQDMzMzMzMxFAMzMzMzMzEUAAAAAAAAAMQAAAAAAAABBAMzMzMzMzD0AzMzMzMzMRQGZmZmZmZgZAZmZmZmZmDkAAAAAAAAASQDMzMzMzMxFAZmZmZmZmEEAAAAAAAAAIQAAAAAAAABBAMzMzMzMzD0BmZmZmZmYQQGZmZmZmZhBAMzMzMzMzEUAAAAAAAAAQQJqZmZmZmRFAMzMzMzMzEUDNzMzMzMwQQGZmZmZmZg5AMzMzMzMzEUAzMzMzMzMRQDMzMzMzMxFAAAAAAAAAEEAzMzMzMzMPQGZmZmZmZhBAmpmZmZmZDUDNzMzMzMwQQGZmZmZmZhBAAAAAAAAAEEBmZmZmZmYSQDMzMzMzMw9AAAAAAAAAEEAzMzMzMzMRQJqZmZmZmRFAZmZmZmZmEEBmZmZmZmYQQGZmZmZmZhBAmpmZmZmZEUAAAAAAAAASQGZmZmZmZhBAzczMzMzMEEAAAAAAAAASQGZmZmZmZhBAMzMzMzMzD0AzMzMzMzMRQGZmZmZmZg5AMzMzMzMzEUCamZmZmZkRQGZmZmZmZg5AZmZmZmZmDkAAAAAAAAAMQJqZmZmZmRFAZmZmZmZmEEBmZmZmZmYQQDMzMzMzMxFAAAAAAAAADEBmZmZmZmYQQGZmZmZmZhBAMzMzMzMzD0AzMzMzMzMPQGZmZmZmZhBAAAAAAAAAEEDNzMzMzMwQQDMzMzMzMxFAZmZmZmZmEEAAAAAAAAAQQM3MzMzMzBBAMzMzMzMzD0AzMzMzMzMRQM3MzMzMzBBAAAAAAAAAEkAAAAAAAAAQQM3MzMzMzBBAAAAAAAAAEkAzMzMzMzMRQDMzMzMzMw9AZmZmZmZmEEAzMzMzMzMRQM3MzMzMzBBAzczMzMzMEEAAAAAAAAAQQDMzMzMzMw9AZmZmZmZmEEAAAAAAAAASQJqZmZmZmQ1AAAAAAAAADEDNzMzMzMwQQAAAAAAAAAxAMzMzMzMzEUAzMzMzMzMPQM3MzMzMzBBAMzMzMzMzEUDNzMzMzMwQQAAAAAAAABBAZmZmZmZmEEAAAAAAAAASQM3MzMzMzBBAZmZmZmZmEEAzMzMzMzMPQDMzMzMzMxFAMzMzMzMzD0AAAAAAAAAQQAAAAAAAABBAAAAAAAAADEAzMzMzMzMRQGZmZmZmZg5AmpmZmZmZEUCamZmZmZkNQJqZmZmZmRFAmpmZmZmZEUCamZmZmZkRQM3MzMzMzBBAAAAAAAAAEkBmZmZmZmYOQGZmZmZmZg5AZmZmZmZmEEBmZmZmZmYQQJqZmZmZmRFAZmZmZmZmDkDNzMzMzMwQQGZmZmZmZhBAmpmZmZmZEUBmZmZmZmYQQGZmZmZmZhBAAAAAAAAADEDNzMzMzMwMQDMzMzMzMxFAZmZmZmZmDkAAAAAAAAAQQDMzMzMzMw9AZmZmZmZmEEAzMzMzMzMRQJqZmZmZmRFAMzMzMzMzEUAzMzMzMzMRQGZmZmZmZhBAmpmZmZmZEUCamZmZmZkRQGZmZmZmZg5AZmZmZmZmDkAAAAAAAAAQQJqZmZmZmRFAmpmZmZmZEUAAAAAAAAASQAAAAAAAABBAAAAAAAAAEEAzMzMzMzMRQM3MzMzMzBBAZmZmZmZmDkAzMzMzMzMRQGZmZmZmZhBAMzMzMzMzEUAAAAAAAAAQQDMzMzMzMxFAzczMzMzMEEAAAAAAAAAQQJqZmZmZmRFAmpmZmZmZEUAAAAAAAAASQM3MzMzMzBBAZmZmZmZmEEAAAAAAAAASQM3MzMzMzBBAMzMzMzMzEUAzMzMzMzMPQAAAAAAAABJAZmZmZmZmEEDNzMzMzMwQQGZmZmZmZg5AMzMzMzMzEUAzMzMzMzMPQDMzMzMzMxFAMzMzMzMzEUAzMzMzMzMPQJqZmZmZmQ1AzczMzMzMEEAzMzMzMzMRQM3MzMzMzBBAMzMzMzMzD0AzMzMzMzMRQJqZmZmZmQ1AMzMzMzMzEUAzMzMzMzMRQDMzMzMzMw9AmpmZmZmZEUAAAAAAAAAQQAAAAAAAABJAMzMzMzMzD0AzMzMzMzMRQM3MzMzMzBBAZmZmZmZmEEDNzMzMzMwQQAAAAAAAABJAzczMzMzMEEDNzMzMzMwQQDMzMzMzMxFAAAAAAAAAEEAAAAAAAAASQGZmZmZmZg5AMzMzMzMzD0AAAAAAAAAQQGZmZmZmZhBAMzMzMzMzC0AAAAAAAAAQQDMzMzMzMwtAMzMzMzMzEUAzMzMzMzMPQGZmZmZmZhBAMzMzMzMzEUAAAAAAAAASQM3MzMzMzBBAZmZmZmZmEECamZmZmZkRQDMzMzMzMxFAMzMzMzMzEUAzMzMzMzMRQM3MzMzMzBBAZmZmZmZmEEBmZmZmZmYQQAAAAAAAABJAmpmZmZmZEUAzMzMzMzMRQDMzMzMzMxFAMzMzMzMzEUAAAAAAAAAQQDMzMzMzMxFAAAAAAAAAEECamZmZmZkRQAAAAAAAABBAMzMzMzMzEUBmZmZmZmYKQJqZmZmZmQ1AZmZmZmZmEEAAAAAAAAAUQAAAAAAAABJAMzMzMzMzD0CamZmZmZkRQGZmZmZmZhBAzczMzMzMDEBmZmZmZmYOQM3MzMzMzAxAzczMzMzMEECamZmZmZkRQGZmZmZmZg5AzczMzMzMEEAzMzMzMzMRQJqZmZmZmRFAZmZmZmZmEECamZmZmZkRQJqZmZmZmRFAmpmZmZmZEUCamZmZmZkRQDMzMzMzMxFAMzMzMzMzEUAzMzMzMzMRQM3MzMzMzBBAMzMzMzMzEUDNzMzMzMwQQGZmZmZmZg5AMzMzMzMzEUAAAAAAAAASQGZmZmZmZhBAzczMzMzMEEAAAAAAAAAQQGZmZmZmZhBAZmZmZmZmEEAzMzMzMzMRQAAAAAAAABJAAAAAAAAAEkBmZmZmZmYQQDMzMzMzMxFAzczMzMzMDECamZmZmZkRQAAAAAAAABJAMzMzMzMzD0AAAAAAAAAQQAAAAAAAABBAmpmZmZmZEUBmZmZmZmYSQJqZmZmZmRFAmpmZmZmZEUAzMzMzMzMRQDMzMzMzMxFAmpmZmZmZEUAAAAAAAAAQQM3MzMzMzBBAZmZmZmZmDkBmZmZmZmYQQM3MzMzMzBBAzczMzMzMEECamZmZmZkRQDMzMzMzMxFAZmZmZmZmEECamZmZmZkRQDMzMzMzMw9AMzMzMzMzD0DNzMzMzMwMQJqZmZmZmRFAAAAAAAAAEEAAAAAAAAAMQGZmZmZmZhBAZmZmZmZmEEAAAAAAAAAQQGZmZmZmZhBAAAAAAAAAEEBmZmZmZmYOQDMzMzMzMxFAzczMzMzMEEBmZmZmZmYQQM3MzMzMzBBAAAAAAAAAEkBmZmZmZmYSQDMzMzMzMxFAAAAAAAAAEEDNzMzMzMwQQGZmZmZmZgpAMzMzMzMzEUCamZmZmZkNQDMzMzMzMw9AMzMzMzMzEUBmZmZmZmYQQM3MzMzMzBBAAAAAAAAAEkAAAAAAAAAQQAAAAAAAABJAAAAAAAAADEAAAAAAAAASQDMzMzMzMxFAZmZmZmZmCkBmZmZmZmYQQGZmZmZmZg5AAAAAAAAADEBmZmZmZmYQQAAAAAAAABJAmpmZmZmZEUBmZmZmZmYQQDMzMzMzMxFAzczMzMzMDEAAAAAAAAAQQGZmZmZmZhBAAAAAAAAAEkDNzMzMzMwQQDMzMzMzMxFAzczMzMzMEEBmZmZmZmYSQAAAAAAAABJAMzMzMzMzEUBmZmZmZmYQQAAAAAAAABJAAAAAAAAADECamZmZmZkRQM3MzMzMzBBAmpmZmZmZEUCamZmZmZkRQM3MzMzMzBBAAAAAAAAAEkAzMzMzMzMRQGZmZmZmZg5AMzMzMzMzD0AAAAAAAAAQQGZmZmZmZhBAmpmZmZmZEUCamZmZmZkRQJqZmZmZmRFAAAAAAAAADEAAAAAAAAASQGZmZmZmZhBAmpmZmZmZEUBmZmZmZmYQQM3MzMzMzBBAzczMzMzMEEAzMzMzMzMRQDMzMzMzMxFAmpmZmZmZDUAzMzMzMzMPQAAAAAAAABJAZmZmZmZmEEAAAAAAAAAQQGZmZmZmZg5AMzMzMzMzC0AzMzMzMzMRQDMzMzMzMxFAMzMzMzMzEUDNzMzMzMwQQGZmZmZmZhBAAAAAAAAAEEAzMzMzMzMRQAAAAAAAABBAZmZmZmZmEEAAAAAAAAAQQGZmZmZmZg5AzczMzMzMEEAzMzMzMzMRQJqZmZmZmRFAZmZmZmZmEEAAAAAAAAASQAAAAAAAABBAzczMzMzMEEAzMzMzMzMPQDMzMzMzMxFAAAAAAAAAEEDNzMzMzMwQQDMzMzMzMxFAzczMzMzMEEDNzMzMzMwQQGZmZmZmZhBAMzMzMzMzEUAzMzMzMzMRQM3MzMzMzBBAAAAAAAAAEkCamZmZmZkRQM3MzMzMzBBAZmZmZmZmEEAzMzMzMzMRQJqZmZmZmRFAZmZmZmZmEEDNzMzMzMwMQAAAAAAAABBAAAAAAAAAEECamZmZmZkRQDMzMzMzMw9AMzMzMzMzEUBmZmZmZmYSQJqZmZmZmRFAAAAAAAAAEkAzMzMzMzMPQGZmZmZmZhBAMzMzMzMzEUAAAAAAAAASQAAAAAAAABJAzczMzMzMDEBmZmZmZmYQQDMzMzMzMxFAZmZmZmZmDkBmZmZmZmYSQGZmZmZmZhBAAAAAAAAAEEAAAAAAAAASQDMzMzMzMxFAAAAAAAAAEEAAAAAAAAASQAAAAAAAABBAAAAAAAAAEkBmZmZmZmYQQDMzMzMzMxFAZmZmZmZmEEAAAAAAAAAQQGZmZmZmZhBAZmZmZmZmEECamZmZmZkRQAAAAAAAABBAZmZmZmZmEECamZmZmZkRQDMzMzMzMxFAzczMzMzMEEDNzMzMzMwMQM3MzMzMzBBAzczMzMzMEEAzMzMzMzMPQM3MzMzMzBBAAAAAAAAAEkAzMzMzMzMRQM3MzMzMzBBAZmZmZmZmEEBmZmZmZmYQQGZmZmZmZhJAZmZmZmZmDkAzMzMzMzMRQM3MzMzMzBBAzczMzMzMEECamZmZmZkRQDMzMzMzMw9AAAAAAAAAEEDNzMzMzMwQQJqZmZmZmQ1AAAAAAAAAEkAAAAAAAAASQM3MzMzMzAxAMzMzMzMzEUBmZmZmZmYQQDMzMzMzMw9AzczMzMzMDEAAAAAAAAAQQGZmZmZmZhBAmpmZmZmZDUAzMzMzMzMPQGZmZmZmZhBAMzMzMzMzD0AzMzMzMzMPQDMzMzMzMw9AZmZmZmZmDkBmZmZmZmYOQGZmZmZmZhBAZmZmZmZmEEBmZmZmZmYKQM3MzMzMzBBAAAAAAAAAEEAzMzMzMzMRQAAAAAAAABBAAAAAAAAAEkBmZmZmZmYQQAAAAAAAABBAzczMzMzMEEBmZmZmZmYOQM3MzMzMzBBAzczMzMzMEEDNzMzMzMwMQGZmZmZmZg5AZmZmZmZmEEBmZmZmZmYQQGZmZmZmZhBAZmZmZmZmEEDNzMzMzMwQQAAAAAAAABBAMzMzMzMzEUDNzMzMzMwQQM3MzMzMzBBAmpmZmZmZDUBmZmZmZmYQQJqZmZmZmRFAZmZmZmZmDkAAAAAAAAAQQM3MzMzMzBBAZmZmZmZmDkDNzMzMzMwQQAAAAAAAABBAMzMzMzMzD0AzMzMzMzMRQGZmZmZmZg5AAAAAAAAAEEDNzMzMzMwQQM3MzMzMzBBAzczMzMzMDEAzMzMzMzMRQAAAAAAAABBAzczMzMzMEEBmZmZmZmYQQAAAAAAAABBAMzMzMzMzEUAAAAAAAAAQQDMzMzMzMw9AzczMzMzMEEBmZmZmZmYQQJqZmZmZmRFAAAAAAAAAEEBmZmZmZmYOQAAAAAAAABBAzczMzMzMCEAzMzMzMzMRQM3MzMzMzBBAmpmZmZmZEUBmZmZmZmYQQM3MzMzMzBBAZmZmZmZmEEBmZmZmZmYQQGZmZmZmZhBAMzMzMzMzD0AzMzMzMzMPQGZmZmZmZg5AAAAAAAAAEEDNzMzMzMwQQGZmZmZmZhBAMzMzMzMzEUCamZmZmZkNQM3MzMzMzBBAMzMzMzMzEUAzMzMzMzMRQJqZmZmZmRFAZmZmZmZmDkAAAAAAAAASQGZmZmZmZg5AZmZmZmZmDkBmZmZmZmYQQGZmZmZmZhBAZmZmZmZmDkBmZmZmZmYKQAAAAAAAABBAZmZmZmZmEkAzMzMzMzMPQJqZmZmZmQ1AzczMzMzMEEBmZmZmZmYQQGZmZmZmZhBAZmZmZmZmDkBmZmZmZmYQQGZmZmZmZhJAZmZmZmZmEEDNzMzMzMwQQDMzMzMzMw9AZmZmZmZmEEBmZmZmZmYQQAAAAAAAABBAmpmZmZmZDUBmZmZmZmYQQGZmZmZmZhBAZmZmZmZmEEBmZmZmZmYKQGZmZmZmZhBAZmZmZmZmEECamZmZmZkRQDMzMzMzMxFAZmZmZmZmEECamZmZmZkNQDMzMzMzMxNAAAAAAAAAEkAAAAAAAAAQQGZmZmZmZhBAMzMzMzMzD0BmZmZmZmYQQM3MzMzMzBBAZmZmZmZmEEAAAAAAAAAMQDMzMzMzMxFAMzMzMzMzD0DNzMzMzMwQQGZmZmZmZg5AAAAAAAAAEkBmZmZmZmYOQGZmZmZmZhBAzczMzMzMEEBmZmZmZmYQQM3MzMzMzBBAAAAAAAAAEkAAAAAAAAAQQJqZmZmZmRFAAAAAAAAAEEAAAAAAAAAQQDMzMzMzMw9AAAAAAAAAEEBmZmZmZmYOQM3MzMzMzBBAMzMzMzMzEUDNzMzMzMwQQDMzMzMzMxFAzczMzMzMEECamZmZmZkRQGZmZmZmZg5AZmZmZmZmEEAzMzMzMzMPQDMzMzMzMxFAmpmZmZmZEUDNzMzMzMwMQGZmZmZmZg5AAAAAAAAAEEBmZmZmZmYQQDMzMzMzMxFAAAAAAAAAEEAzMzMzMzMPQJqZmZmZmRFAmpmZmZmZDUDNzMzMzMwMQJqZmZmZmQ1AAAAAAAAAEEDNzMzMzMwQQGZmZmZmZg5AzczMzMzMEEAzMzMzMzMPQAAAAAAAABBAZmZmZmZmEEAzMzMzMzMTQM3MzMzMzBBAZmZmZmZmEEAAAAAAAAAQQDMzMzMzMw9AZmZmZmZmEEAzMzMzMzMRQGZmZmZmZhBAzczMzMzMEEAzMzMzMzMPQJqZmZmZmQ1AZmZmZmZmEEAAAAAAAAAQQGZmZmZmZg5AzczMzMzMEEBmZmZmZmYSQGZmZmZmZhBAZmZmZmZmCkDNzMzMzMwQQDMzMzMzMxFAMzMzMzMzEUAzMzMzMzMRQM3MzMzMzBJAmpmZmZmZEUAzMzMzMzMPQM3MzMzMzBJAZmZmZmZmEEBmZmZmZmYOQJqZmZmZmRFAMzMzMzMzEUAzMzMzMzMLQM3MzMzMzBBAmpmZmZmZDUAzMzMzMzMRQDMzMzMzMxFAmpmZmZmZEUBmZmZmZmYQQAAAAAAAABBAmpmZmZmZEUBmZmZmZmYOQDMzMzMzMxFAZmZmZmZmDkBmZmZmZmYCQAAAAAAAABJAAAAAAAAAEECamZmZmZkNQAAAAAAAABBAmpmZmZmZEUBmZmZmZmYQQJqZmZmZmRFAzczMzMzMCEAzMzMzMzMRQJqZmZmZmRFAmpmZmZmZEUBmZmZmZmYQQGZmZmZmZhBAAAAAAAAAEEDNzMzMzMwMQDMzMzMzMw9AMzMzMzMzD0BmZmZmZmYOQGZmZmZmZhBAZmZmZmZmEEBmZmZmZmYQQGZmZmZmZg5AMzMzMzMzEUAAAAAAAAASQM3MzMzMzBBAMzMzMzMzD0AAAAAAAAAMQDMzMzMzMxFAMzMzMzMzD0AzMzMzMzMPQAAAAAAAABBAzczMzMzMEkBmZmZmZmYQQGZmZmZmZg5AZmZmZmZmEEAAAAAAAAD4f2ZmZmZmZhBAMzMzMzMzD0BmZmZmZmYOQGZmZmZmZhBAMzMzMzMzEUAzMzMzMzMPQGZmZmZmZgZAAAAAAAAAEEAAAAAAAAASQGZmZmZmZhJAZmZmZmZmEEBmZmZmZmYQQDMzMzMzMwtAZmZmZmZmEkDNzMzMzMwQQDMzMzMzMw9AzczMzMzMEEDNzMzMzMwQQGZmZmZmZhBAMzMzMzMzE0CamZmZmZkRQDMzMzMzMxFAMzMzMzMzEUAAAAAAAAAQQDMzMzMzMxFAAAAAAAAAEECamZmZmZkRQGZmZmZmZhBAzczMzMzMDEAAAAAAAAAAQAAAAAAAABBAmpmZmZmZDUBmZmZmZmYOQDMzMzMzMw9AzczMzMzMCEAAAAAAAAAIQAAAAAAAABBAmpmZmZmZEUBmZmZmZmYQQM3MzMzMzAxAmpmZmZmZEUDNzMzMzMwQQDMzMzMzMxFAZmZmZmZmDkBmZmZmZmYQQAAAAAAAABBAzczMzMzMEEDNzMzMzMwMQM3MzMzMzBBAZmZmZmZmEEDNzMzMzMwQQDMzMzMzMw9AAAAAAAAAEEDNzMzMzMwQQM3MzMzMzBBAZmZmZmZmEECamZmZmZkRQGZmZmZmZhBAzczMzMzMEEBmZmZmZmYQQDMzMzMzMw9AMzMzMzMzD0DNzMzMzMwQQM3MzMzMzBBAmpmZmZmZDUCamZmZmZkNQDMzMzMzMwtAzczMzMzMEEAAAAAAAAAQQGZmZmZmZhBAMzMzMzMzD0AAAAAAAAAQQDMzMzMzMw9AzczMzMzMEEAzMzMzMzMRQAAAAAAAABBAzczMzMzMBEBmZmZmZmYOQAAAAAAAABJAAAAAAAAADEAzMzMzMzMPQAAAAAAAABBAAAAAAAAAEEAAAAAAAAAMQAAAAAAAABBAMzMzMzMzC0DNzMzMzMwQQGZmZmZmZg5AZmZmZmZmEEDNzMzMzMwQQDMzMzMzMxFAzczMzMzMEEBmZmZmZmYQQDMzMzMzMw9AZmZmZmZmCkAzMzMzMzMRQDMzMzMzMw9AMzMzMzMzEUDNzMzMzMwMQGZmZmZmZg5AMzMzMzMzD0BmZmZmZmYSQGZmZmZmZg5AMzMzMzMzD0BmZmZmZmYQQM3MzMzMzAxAmpmZmZmZEUAzMzMzMzMRQM3MzMzMzBJAMzMzMzMzEUAzMzMzMzMPQDMzMzMzMw9AmpmZmZmZDUAAAAAAAAAMQAAAAAAAABBAZmZmZmZmEEAzMzMzMzMPQJqZmZmZmRFAMzMzMzMzEUAAAAAAAAASQAAAAAAAABBAMzMzMzMzD0DNzMzMzMwQQGZmZmZmZhBAmpmZmZmZDUBmZmZmZmYQQM3MzMzMzBBAMzMzMzMzEUDNzMzMzMwMQGZmZmZmZhBAAAAAAAAAEkDNzMzMzMwQQDMzMzMzMxFAAAAAAAAAEEDNzMzMzMwQQM3MzMzMzBBAAAAAAAAAEkBmZmZmZmYOQJqZmZmZmRFAZmZmZmZmEEDNzMzMzMwQQDMzMzMzMxFAZmZmZmZmEEDNzMzMzMwQQGZmZmZmZhBAMzMzMzMzD0AzMzMzMzMPQGZmZmZmZg5AZmZmZmZmEkDNzMzMzMwMQGZmZmZmZhBAzczMzMzMEEAzMzMzMzMRQDMzMzMzMw9AMzMzMzMzD0AAAAAAAAAQQJqZmZmZmRFAzczMzMzMEEAAAAAAAAASQGZmZmZmZhBAZmZmZmZmEEDNzMzMzMwQQM3MzMzMzBBAAAAAAAAAEEAzMzMzMzMRQM3MzMzMzAxAAAAAAAAADEAzMzMzMzMRQM3MzMzMzAxAMzMzMzMzB0DNzMzMzMwQQJqZmZmZmRFAZmZmZmZmEEBmZmZmZmYOQAAAAAAAAAxAZmZmZmZmEECamZmZmZkJQJqZmZmZmRFAzczMzMzMDEDNzMzMzMwIQAAAAAAAABBAZmZmZmZmEEDNzMzMzMwMQAAAAAAAABBAMzMzMzMzEUA=",
          "dtype": "f8"
         },
         "y0": " ",
         "yaxis": "y"
        }
       ],
       "layout": {
        "boxmode": "group",
        "height": 400,
        "legend": {
         "tracegroupgap": 0
        },
        "margin": {
         "b": 30,
         "l": 50,
         "r": 30,
         "t": 50
        },
        "template": {
         "data": {
          "bar": [
           {
            "error_x": {
             "color": "#2a3f5f"
            },
            "error_y": {
             "color": "#2a3f5f"
            },
            "marker": {
             "line": {
              "color": "white",
              "width": 0.5
             },
             "pattern": {
              "fillmode": "overlay",
              "size": 10,
              "solidity": 0.2
             }
            },
            "type": "bar"
           }
          ],
          "barpolar": [
           {
            "marker": {
             "line": {
              "color": "white",
              "width": 0.5
             },
             "pattern": {
              "fillmode": "overlay",
              "size": 10,
              "solidity": 0.2
             }
            },
            "type": "barpolar"
           }
          ],
          "carpet": [
           {
            "aaxis": {
             "endlinecolor": "#2a3f5f",
             "gridcolor": "#C8D4E3",
             "linecolor": "#C8D4E3",
             "minorgridcolor": "#C8D4E3",
             "startlinecolor": "#2a3f5f"
            },
            "baxis": {
             "endlinecolor": "#2a3f5f",
             "gridcolor": "#C8D4E3",
             "linecolor": "#C8D4E3",
             "minorgridcolor": "#C8D4E3",
             "startlinecolor": "#2a3f5f"
            },
            "type": "carpet"
           }
          ],
          "choropleth": [
           {
            "colorbar": {
             "outlinewidth": 0,
             "ticks": ""
            },
            "type": "choropleth"
           }
          ],
          "contour": [
           {
            "colorbar": {
             "outlinewidth": 0,
             "ticks": ""
            },
            "colorscale": [
             [
              0,
              "#0d0887"
             ],
             [
              0.1111111111111111,
              "#46039f"
             ],
             [
              0.2222222222222222,
              "#7201a8"
             ],
             [
              0.3333333333333333,
              "#9c179e"
             ],
             [
              0.4444444444444444,
              "#bd3786"
             ],
             [
              0.5555555555555556,
              "#d8576b"
             ],
             [
              0.6666666666666666,
              "#ed7953"
             ],
             [
              0.7777777777777778,
              "#fb9f3a"
             ],
             [
              0.8888888888888888,
              "#fdca26"
             ],
             [
              1,
              "#f0f921"
             ]
            ],
            "type": "contour"
           }
          ],
          "contourcarpet": [
           {
            "colorbar": {
             "outlinewidth": 0,
             "ticks": ""
            },
            "type": "contourcarpet"
           }
          ],
          "heatmap": [
           {
            "colorbar": {
             "outlinewidth": 0,
             "ticks": ""
            },
            "colorscale": [
             [
              0,
              "#0d0887"
             ],
             [
              0.1111111111111111,
              "#46039f"
             ],
             [
              0.2222222222222222,
              "#7201a8"
             ],
             [
              0.3333333333333333,
              "#9c179e"
             ],
             [
              0.4444444444444444,
              "#bd3786"
             ],
             [
              0.5555555555555556,
              "#d8576b"
             ],
             [
              0.6666666666666666,
              "#ed7953"
             ],
             [
              0.7777777777777778,
              "#fb9f3a"
             ],
             [
              0.8888888888888888,
              "#fdca26"
             ],
             [
              1,
              "#f0f921"
             ]
            ],
            "type": "heatmap"
           }
          ],
          "histogram": [
           {
            "marker": {
             "pattern": {
              "fillmode": "overlay",
              "size": 10,
              "solidity": 0.2
             }
            },
            "type": "histogram"
           }
          ],
          "histogram2d": [
           {
            "colorbar": {
             "outlinewidth": 0,
             "ticks": ""
            },
            "colorscale": [
             [
              0,
              "#0d0887"
             ],
             [
              0.1111111111111111,
              "#46039f"
             ],
             [
              0.2222222222222222,
              "#7201a8"
             ],
             [
              0.3333333333333333,
              "#9c179e"
             ],
             [
              0.4444444444444444,
              "#bd3786"
             ],
             [
              0.5555555555555556,
              "#d8576b"
             ],
             [
              0.6666666666666666,
              "#ed7953"
             ],
             [
              0.7777777777777778,
              "#fb9f3a"
             ],
             [
              0.8888888888888888,
              "#fdca26"
             ],
             [
              1,
              "#f0f921"
             ]
            ],
            "type": "histogram2d"
           }
          ],
          "histogram2dcontour": [
           {
            "colorbar": {
             "outlinewidth": 0,
             "ticks": ""
            },
            "colorscale": [
             [
              0,
              "#0d0887"
             ],
             [
              0.1111111111111111,
              "#46039f"
             ],
             [
              0.2222222222222222,
              "#7201a8"
             ],
             [
              0.3333333333333333,
              "#9c179e"
             ],
             [
              0.4444444444444444,
              "#bd3786"
             ],
             [
              0.5555555555555556,
              "#d8576b"
             ],
             [
              0.6666666666666666,
              "#ed7953"
             ],
             [
              0.7777777777777778,
              "#fb9f3a"
             ],
             [
              0.8888888888888888,
              "#fdca26"
             ],
             [
              1,
              "#f0f921"
             ]
            ],
            "type": "histogram2dcontour"
           }
          ],
          "mesh3d": [
           {
            "colorbar": {
             "outlinewidth": 0,
             "ticks": ""
            },
            "type": "mesh3d"
           }
          ],
          "parcoords": [
           {
            "line": {
             "colorbar": {
              "outlinewidth": 0,
              "ticks": ""
             }
            },
            "type": "parcoords"
           }
          ],
          "pie": [
           {
            "automargin": true,
            "type": "pie"
           }
          ],
          "scatter": [
           {
            "fillpattern": {
             "fillmode": "overlay",
             "size": 10,
             "solidity": 0.2
            },
            "type": "scatter"
           }
          ],
          "scatter3d": [
           {
            "line": {
             "colorbar": {
              "outlinewidth": 0,
              "ticks": ""
             }
            },
            "marker": {
             "colorbar": {
              "outlinewidth": 0,
              "ticks": ""
             }
            },
            "type": "scatter3d"
           }
          ],
          "scattercarpet": [
           {
            "marker": {
             "colorbar": {
              "outlinewidth": 0,
              "ticks": ""
             }
            },
            "type": "scattercarpet"
           }
          ],
          "scattergeo": [
           {
            "marker": {
             "colorbar": {
              "outlinewidth": 0,
              "ticks": ""
             }
            },
            "type": "scattergeo"
           }
          ],
          "scattergl": [
           {
            "marker": {
             "colorbar": {
              "outlinewidth": 0,
              "ticks": ""
             }
            },
            "type": "scattergl"
           }
          ],
          "scattermap": [
           {
            "marker": {
             "colorbar": {
              "outlinewidth": 0,
              "ticks": ""
             }
            },
            "type": "scattermap"
           }
          ],
          "scattermapbox": [
           {
            "marker": {
             "colorbar": {
              "outlinewidth": 0,
              "ticks": ""
             }
            },
            "type": "scattermapbox"
           }
          ],
          "scatterpolar": [
           {
            "marker": {
             "colorbar": {
              "outlinewidth": 0,
              "ticks": ""
             }
            },
            "type": "scatterpolar"
           }
          ],
          "scatterpolargl": [
           {
            "marker": {
             "colorbar": {
              "outlinewidth": 0,
              "ticks": ""
             }
            },
            "type": "scatterpolargl"
           }
          ],
          "scatterternary": [
           {
            "marker": {
             "colorbar": {
              "outlinewidth": 0,
              "ticks": ""
             }
            },
            "type": "scatterternary"
           }
          ],
          "surface": [
           {
            "colorbar": {
             "outlinewidth": 0,
             "ticks": ""
            },
            "colorscale": [
             [
              0,
              "#0d0887"
             ],
             [
              0.1111111111111111,
              "#46039f"
             ],
             [
              0.2222222222222222,
              "#7201a8"
             ],
             [
              0.3333333333333333,
              "#9c179e"
             ],
             [
              0.4444444444444444,
              "#bd3786"
             ],
             [
              0.5555555555555556,
              "#d8576b"
             ],
             [
              0.6666666666666666,
              "#ed7953"
             ],
             [
              0.7777777777777778,
              "#fb9f3a"
             ],
             [
              0.8888888888888888,
              "#fdca26"
             ],
             [
              1,
              "#f0f921"
             ]
            ],
            "type": "surface"
           }
          ],
          "table": [
           {
            "cells": {
             "fill": {
              "color": "#EBF0F8"
             },
             "line": {
              "color": "white"
             }
            },
            "header": {
             "fill": {
              "color": "#C8D4E3"
             },
             "line": {
              "color": "white"
             }
            },
            "type": "table"
           }
          ]
         },
         "layout": {
          "annotationdefaults": {
           "arrowcolor": "#2a3f5f",
           "arrowhead": 0,
           "arrowwidth": 1
          },
          "autotypenumbers": "strict",
          "coloraxis": {
           "colorbar": {
            "outlinewidth": 0,
            "ticks": ""
           }
          },
          "colorscale": {
           "diverging": [
            [
             0,
             "#8e0152"
            ],
            [
             0.1,
             "#c51b7d"
            ],
            [
             0.2,
             "#de77ae"
            ],
            [
             0.3,
             "#f1b6da"
            ],
            [
             0.4,
             "#fde0ef"
            ],
            [
             0.5,
             "#f7f7f7"
            ],
            [
             0.6,
             "#e6f5d0"
            ],
            [
             0.7,
             "#b8e186"
            ],
            [
             0.8,
             "#7fbc41"
            ],
            [
             0.9,
             "#4d9221"
            ],
            [
             1,
             "#276419"
            ]
           ],
           "sequential": [
            [
             0,
             "#0d0887"
            ],
            [
             0.1111111111111111,
             "#46039f"
            ],
            [
             0.2222222222222222,
             "#7201a8"
            ],
            [
             0.3333333333333333,
             "#9c179e"
            ],
            [
             0.4444444444444444,
             "#bd3786"
            ],
            [
             0.5555555555555556,
             "#d8576b"
            ],
            [
             0.6666666666666666,
             "#ed7953"
            ],
            [
             0.7777777777777778,
             "#fb9f3a"
            ],
            [
             0.8888888888888888,
             "#fdca26"
            ],
            [
             1,
             "#f0f921"
            ]
           ],
           "sequentialminus": [
            [
             0,
             "#0d0887"
            ],
            [
             0.1111111111111111,
             "#46039f"
            ],
            [
             0.2222222222222222,
             "#7201a8"
            ],
            [
             0.3333333333333333,
             "#9c179e"
            ],
            [
             0.4444444444444444,
             "#bd3786"
            ],
            [
             0.5555555555555556,
             "#d8576b"
            ],
            [
             0.6666666666666666,
             "#ed7953"
            ],
            [
             0.7777777777777778,
             "#fb9f3a"
            ],
            [
             0.8888888888888888,
             "#fdca26"
            ],
            [
             1,
             "#f0f921"
            ]
           ]
          },
          "colorway": [
           "#636efa",
           "#EF553B",
           "#00cc96",
           "#ab63fa",
           "#FFA15A",
           "#19d3f3",
           "#FF6692",
           "#B6E880",
           "#FF97FF",
           "#FECB52"
          ],
          "font": {
           "color": "#2a3f5f"
          },
          "geo": {
           "bgcolor": "white",
           "lakecolor": "white",
           "landcolor": "white",
           "showlakes": true,
           "showland": true,
           "subunitcolor": "#C8D4E3"
          },
          "hoverlabel": {
           "align": "left"
          },
          "hovermode": "closest",
          "mapbox": {
           "style": "light"
          },
          "paper_bgcolor": "white",
          "plot_bgcolor": "white",
          "polar": {
           "angularaxis": {
            "gridcolor": "#EBF0F8",
            "linecolor": "#EBF0F8",
            "ticks": ""
           },
           "bgcolor": "white",
           "radialaxis": {
            "gridcolor": "#EBF0F8",
            "linecolor": "#EBF0F8",
            "ticks": ""
           }
          },
          "scene": {
           "xaxis": {
            "backgroundcolor": "white",
            "gridcolor": "#DFE8F3",
            "gridwidth": 2,
            "linecolor": "#EBF0F8",
            "showbackground": true,
            "ticks": "",
            "zerolinecolor": "#EBF0F8"
           },
           "yaxis": {
            "backgroundcolor": "white",
            "gridcolor": "#DFE8F3",
            "gridwidth": 2,
            "linecolor": "#EBF0F8",
            "showbackground": true,
            "ticks": "",
            "zerolinecolor": "#EBF0F8"
           },
           "zaxis": {
            "backgroundcolor": "white",
            "gridcolor": "#DFE8F3",
            "gridwidth": 2,
            "linecolor": "#EBF0F8",
            "showbackground": true,
            "ticks": "",
            "zerolinecolor": "#EBF0F8"
           }
          },
          "shapedefaults": {
           "line": {
            "color": "#2a3f5f"
           }
          },
          "ternary": {
           "aaxis": {
            "gridcolor": "#DFE8F3",
            "linecolor": "#A2B1C6",
            "ticks": ""
           },
           "baxis": {
            "gridcolor": "#DFE8F3",
            "linecolor": "#A2B1C6",
            "ticks": ""
           },
           "bgcolor": "white",
           "caxis": {
            "gridcolor": "#DFE8F3",
            "linecolor": "#A2B1C6",
            "ticks": ""
           }
          },
          "title": {
           "x": 0.05
          },
          "xaxis": {
           "automargin": true,
           "gridcolor": "#EBF0F8",
           "linecolor": "#EBF0F8",
           "ticks": "",
           "title": {
            "standoff": 15
           },
           "zerolinecolor": "#EBF0F8",
           "zerolinewidth": 2
          },
          "yaxis": {
           "automargin": true,
           "gridcolor": "#EBF0F8",
           "linecolor": "#EBF0F8",
           "ticks": "",
           "title": {
            "standoff": 15
           },
           "zerolinecolor": "#EBF0F8",
           "zerolinewidth": 2
          }
         }
        },
        "title": {
         "font": {
          "color": "black",
          "family": "Arial",
          "size": 20
         },
         "text": "📦 Boxplot de rating"
        },
        "xaxis": {
         "anchor": "y",
         "domain": [
          0,
          1
         ]
        },
        "yaxis": {
         "anchor": "x",
         "domain": [
          0,
          1
         ],
         "gridcolor": "lightgray",
         "showgrid": true,
         "title": {
          "text": "rating"
         }
        }
       }
      }
     },
     "metadata": {},
     "output_type": "display_data"
    },
    {
     "data": {
      "application/vnd.plotly.v1+json": {
       "config": {
        "plotlyServerURL": "https://plot.ly"
       },
       "data": [
        {
         "alignmentgroup": "True",
         "boxpoints": "all",
         "hovertemplate": "rating_count=%{y}<extra></extra>",
         "jitter": 0.3,
         "legendgroup": "",
         "marker": {
          "color": "#800000",
          "opacity": 0.6,
          "size": 5
         },
         "name": "",
         "notched": false,
         "offsetgroup": "",
         "orientation": "v",
         "showlegend": false,
         "type": "box",
         "x0": " ",
         "xaxis": "x",
         "y": {
          "bdata": "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",
          "dtype": "f8"
         },
         "y0": " ",
         "yaxis": "y"
        }
       ],
       "layout": {
        "boxmode": "group",
        "height": 400,
        "legend": {
         "tracegroupgap": 0
        },
        "margin": {
         "b": 30,
         "l": 50,
         "r": 30,
         "t": 50
        },
        "template": {
         "data": {
          "bar": [
           {
            "error_x": {
             "color": "#2a3f5f"
            },
            "error_y": {
             "color": "#2a3f5f"
            },
            "marker": {
             "line": {
              "color": "white",
              "width": 0.5
             },
             "pattern": {
              "fillmode": "overlay",
              "size": 10,
              "solidity": 0.2
             }
            },
            "type": "bar"
           }
          ],
          "barpolar": [
           {
            "marker": {
             "line": {
              "color": "white",
              "width": 0.5
             },
             "pattern": {
              "fillmode": "overlay",
              "size": 10,
              "solidity": 0.2
             }
            },
            "type": "barpolar"
           }
          ],
          "carpet": [
           {
            "aaxis": {
             "endlinecolor": "#2a3f5f",
             "gridcolor": "#C8D4E3",
             "linecolor": "#C8D4E3",
             "minorgridcolor": "#C8D4E3",
             "startlinecolor": "#2a3f5f"
            },
            "baxis": {
             "endlinecolor": "#2a3f5f",
             "gridcolor": "#C8D4E3",
             "linecolor": "#C8D4E3",
             "minorgridcolor": "#C8D4E3",
             "startlinecolor": "#2a3f5f"
            },
            "type": "carpet"
           }
          ],
          "choropleth": [
           {
            "colorbar": {
             "outlinewidth": 0,
             "ticks": ""
            },
            "type": "choropleth"
           }
          ],
          "contour": [
           {
            "colorbar": {
             "outlinewidth": 0,
             "ticks": ""
            },
            "colorscale": [
             [
              0,
              "#0d0887"
             ],
             [
              0.1111111111111111,
              "#46039f"
             ],
             [
              0.2222222222222222,
              "#7201a8"
             ],
             [
              0.3333333333333333,
              "#9c179e"
             ],
             [
              0.4444444444444444,
              "#bd3786"
             ],
             [
              0.5555555555555556,
              "#d8576b"
             ],
             [
              0.6666666666666666,
              "#ed7953"
             ],
             [
              0.7777777777777778,
              "#fb9f3a"
             ],
             [
              0.8888888888888888,
              "#fdca26"
             ],
             [
              1,
              "#f0f921"
             ]
            ],
            "type": "contour"
           }
          ],
          "contourcarpet": [
           {
            "colorbar": {
             "outlinewidth": 0,
             "ticks": ""
            },
            "type": "contourcarpet"
           }
          ],
          "heatmap": [
           {
            "colorbar": {
             "outlinewidth": 0,
             "ticks": ""
            },
            "colorscale": [
             [
              0,
              "#0d0887"
             ],
             [
              0.1111111111111111,
              "#46039f"
             ],
             [
              0.2222222222222222,
              "#7201a8"
             ],
             [
              0.3333333333333333,
              "#9c179e"
             ],
             [
              0.4444444444444444,
              "#bd3786"
             ],
             [
              0.5555555555555556,
              "#d8576b"
             ],
             [
              0.6666666666666666,
              "#ed7953"
             ],
             [
              0.7777777777777778,
              "#fb9f3a"
             ],
             [
              0.8888888888888888,
              "#fdca26"
             ],
             [
              1,
              "#f0f921"
             ]
            ],
            "type": "heatmap"
           }
          ],
          "histogram": [
           {
            "marker": {
             "pattern": {
              "fillmode": "overlay",
              "size": 10,
              "solidity": 0.2
             }
            },
            "type": "histogram"
           }
          ],
          "histogram2d": [
           {
            "colorbar": {
             "outlinewidth": 0,
             "ticks": ""
            },
            "colorscale": [
             [
              0,
              "#0d0887"
             ],
             [
              0.1111111111111111,
              "#46039f"
             ],
             [
              0.2222222222222222,
              "#7201a8"
             ],
             [
              0.3333333333333333,
              "#9c179e"
             ],
             [
              0.4444444444444444,
              "#bd3786"
             ],
             [
              0.5555555555555556,
              "#d8576b"
             ],
             [
              0.6666666666666666,
              "#ed7953"
             ],
             [
              0.7777777777777778,
              "#fb9f3a"
             ],
             [
              0.8888888888888888,
              "#fdca26"
             ],
             [
              1,
              "#f0f921"
             ]
            ],
            "type": "histogram2d"
           }
          ],
          "histogram2dcontour": [
           {
            "colorbar": {
             "outlinewidth": 0,
             "ticks": ""
            },
            "colorscale": [
             [
              0,
              "#0d0887"
             ],
             [
              0.1111111111111111,
              "#46039f"
             ],
             [
              0.2222222222222222,
              "#7201a8"
             ],
             [
              0.3333333333333333,
              "#9c179e"
             ],
             [
              0.4444444444444444,
              "#bd3786"
             ],
             [
              0.5555555555555556,
              "#d8576b"
             ],
             [
              0.6666666666666666,
              "#ed7953"
             ],
             [
              0.7777777777777778,
              "#fb9f3a"
             ],
             [
              0.8888888888888888,
              "#fdca26"
             ],
             [
              1,
              "#f0f921"
             ]
            ],
            "type": "histogram2dcontour"
           }
          ],
          "mesh3d": [
           {
            "colorbar": {
             "outlinewidth": 0,
             "ticks": ""
            },
            "type": "mesh3d"
           }
          ],
          "parcoords": [
           {
            "line": {
             "colorbar": {
              "outlinewidth": 0,
              "ticks": ""
             }
            },
            "type": "parcoords"
           }
          ],
          "pie": [
           {
            "automargin": true,
            "type": "pie"
           }
          ],
          "scatter": [
           {
            "fillpattern": {
             "fillmode": "overlay",
             "size": 10,
             "solidity": 0.2
            },
            "type": "scatter"
           }
          ],
          "scatter3d": [
           {
            "line": {
             "colorbar": {
              "outlinewidth": 0,
              "ticks": ""
             }
            },
            "marker": {
             "colorbar": {
              "outlinewidth": 0,
              "ticks": ""
             }
            },
            "type": "scatter3d"
           }
          ],
          "scattercarpet": [
           {
            "marker": {
             "colorbar": {
              "outlinewidth": 0,
              "ticks": ""
             }
            },
            "type": "scattercarpet"
           }
          ],
          "scattergeo": [
           {
            "marker": {
             "colorbar": {
              "outlinewidth": 0,
              "ticks": ""
             }
            },
            "type": "scattergeo"
           }
          ],
          "scattergl": [
           {
            "marker": {
             "colorbar": {
              "outlinewidth": 0,
              "ticks": ""
             }
            },
            "type": "scattergl"
           }
          ],
          "scattermap": [
           {
            "marker": {
             "colorbar": {
              "outlinewidth": 0,
              "ticks": ""
             }
            },
            "type": "scattermap"
           }
          ],
          "scattermapbox": [
           {
            "marker": {
             "colorbar": {
              "outlinewidth": 0,
              "ticks": ""
             }
            },
            "type": "scattermapbox"
           }
          ],
          "scatterpolar": [
           {
            "marker": {
             "colorbar": {
              "outlinewidth": 0,
              "ticks": ""
             }
            },
            "type": "scatterpolar"
           }
          ],
          "scatterpolargl": [
           {
            "marker": {
             "colorbar": {
              "outlinewidth": 0,
              "ticks": ""
             }
            },
            "type": "scatterpolargl"
           }
          ],
          "scatterternary": [
           {
            "marker": {
             "colorbar": {
              "outlinewidth": 0,
              "ticks": ""
             }
            },
            "type": "scatterternary"
           }
          ],
          "surface": [
           {
            "colorbar": {
             "outlinewidth": 0,
             "ticks": ""
            },
            "colorscale": [
             [
              0,
              "#0d0887"
             ],
             [
              0.1111111111111111,
              "#46039f"
             ],
             [
              0.2222222222222222,
              "#7201a8"
             ],
             [
              0.3333333333333333,
              "#9c179e"
             ],
             [
              0.4444444444444444,
              "#bd3786"
             ],
             [
              0.5555555555555556,
              "#d8576b"
             ],
             [
              0.6666666666666666,
              "#ed7953"
             ],
             [
              0.7777777777777778,
              "#fb9f3a"
             ],
             [
              0.8888888888888888,
              "#fdca26"
             ],
             [
              1,
              "#f0f921"
             ]
            ],
            "type": "surface"
           }
          ],
          "table": [
           {
            "cells": {
             "fill": {
              "color": "#EBF0F8"
             },
             "line": {
              "color": "white"
             }
            },
            "header": {
             "fill": {
              "color": "#C8D4E3"
             },
             "line": {
              "color": "white"
             }
            },
            "type": "table"
           }
          ]
         },
         "layout": {
          "annotationdefaults": {
           "arrowcolor": "#2a3f5f",
           "arrowhead": 0,
           "arrowwidth": 1
          },
          "autotypenumbers": "strict",
          "coloraxis": {
           "colorbar": {
            "outlinewidth": 0,
            "ticks": ""
           }
          },
          "colorscale": {
           "diverging": [
            [
             0,
             "#8e0152"
            ],
            [
             0.1,
             "#c51b7d"
            ],
            [
             0.2,
             "#de77ae"
            ],
            [
             0.3,
             "#f1b6da"
            ],
            [
             0.4,
             "#fde0ef"
            ],
            [
             0.5,
             "#f7f7f7"
            ],
            [
             0.6,
             "#e6f5d0"
            ],
            [
             0.7,
             "#b8e186"
            ],
            [
             0.8,
             "#7fbc41"
            ],
            [
             0.9,
             "#4d9221"
            ],
            [
             1,
             "#276419"
            ]
           ],
           "sequential": [
            [
             0,
             "#0d0887"
            ],
            [
             0.1111111111111111,
             "#46039f"
            ],
            [
             0.2222222222222222,
             "#7201a8"
            ],
            [
             0.3333333333333333,
             "#9c179e"
            ],
            [
             0.4444444444444444,
             "#bd3786"
            ],
            [
             0.5555555555555556,
             "#d8576b"
            ],
            [
             0.6666666666666666,
             "#ed7953"
            ],
            [
             0.7777777777777778,
             "#fb9f3a"
            ],
            [
             0.8888888888888888,
             "#fdca26"
            ],
            [
             1,
             "#f0f921"
            ]
           ],
           "sequentialminus": [
            [
             0,
             "#0d0887"
            ],
            [
             0.1111111111111111,
             "#46039f"
            ],
            [
             0.2222222222222222,
             "#7201a8"
            ],
            [
             0.3333333333333333,
             "#9c179e"
            ],
            [
             0.4444444444444444,
             "#bd3786"
            ],
            [
             0.5555555555555556,
             "#d8576b"
            ],
            [
             0.6666666666666666,
             "#ed7953"
            ],
            [
             0.7777777777777778,
             "#fb9f3a"
            ],
            [
             0.8888888888888888,
             "#fdca26"
            ],
            [
             1,
             "#f0f921"
            ]
           ]
          },
          "colorway": [
           "#636efa",
           "#EF553B",
           "#00cc96",
           "#ab63fa",
           "#FFA15A",
           "#19d3f3",
           "#FF6692",
           "#B6E880",
           "#FF97FF",
           "#FECB52"
          ],
          "font": {
           "color": "#2a3f5f"
          },
          "geo": {
           "bgcolor": "white",
           "lakecolor": "white",
           "landcolor": "white",
           "showlakes": true,
           "showland": true,
           "subunitcolor": "#C8D4E3"
          },
          "hoverlabel": {
           "align": "left"
          },
          "hovermode": "closest",
          "mapbox": {
           "style": "light"
          },
          "paper_bgcolor": "white",
          "plot_bgcolor": "white",
          "polar": {
           "angularaxis": {
            "gridcolor": "#EBF0F8",
            "linecolor": "#EBF0F8",
            "ticks": ""
           },
           "bgcolor": "white",
           "radialaxis": {
            "gridcolor": "#EBF0F8",
            "linecolor": "#EBF0F8",
            "ticks": ""
           }
          },
          "scene": {
           "xaxis": {
            "backgroundcolor": "white",
            "gridcolor": "#DFE8F3",
            "gridwidth": 2,
            "linecolor": "#EBF0F8",
            "showbackground": true,
            "ticks": "",
            "zerolinecolor": "#EBF0F8"
           },
           "yaxis": {
            "backgroundcolor": "white",
            "gridcolor": "#DFE8F3",
            "gridwidth": 2,
            "linecolor": "#EBF0F8",
            "showbackground": true,
            "ticks": "",
            "zerolinecolor": "#EBF0F8"
           },
           "zaxis": {
            "backgroundcolor": "white",
            "gridcolor": "#DFE8F3",
            "gridwidth": 2,
            "linecolor": "#EBF0F8",
            "showbackground": true,
            "ticks": "",
            "zerolinecolor": "#EBF0F8"
           }
          },
          "shapedefaults": {
           "line": {
            "color": "#2a3f5f"
           }
          },
          "ternary": {
           "aaxis": {
            "gridcolor": "#DFE8F3",
            "linecolor": "#A2B1C6",
            "ticks": ""
           },
           "baxis": {
            "gridcolor": "#DFE8F3",
            "linecolor": "#A2B1C6",
            "ticks": ""
           },
           "bgcolor": "white",
           "caxis": {
            "gridcolor": "#DFE8F3",
            "linecolor": "#A2B1C6",
            "ticks": ""
           }
          },
          "title": {
           "x": 0.05
          },
          "xaxis": {
           "automargin": true,
           "gridcolor": "#EBF0F8",
           "linecolor": "#EBF0F8",
           "ticks": "",
           "title": {
            "standoff": 15
           },
           "zerolinecolor": "#EBF0F8",
           "zerolinewidth": 2
          },
          "yaxis": {
           "automargin": true,
           "gridcolor": "#EBF0F8",
           "linecolor": "#EBF0F8",
           "ticks": "",
           "title": {
            "standoff": 15
           },
           "zerolinecolor": "#EBF0F8",
           "zerolinewidth": 2
          }
         }
        },
        "title": {
         "font": {
          "color": "black",
          "family": "Arial",
          "size": 20
         },
         "text": "📦 Boxplot de rating_count"
        },
        "xaxis": {
         "anchor": "y",
         "domain": [
          0,
          1
         ]
        },
        "yaxis": {
         "anchor": "x",
         "domain": [
          0,
          1
         ],
         "gridcolor": "lightgray",
         "showgrid": true,
         "title": {
          "text": "rating_count"
         }
        }
       }
      }
     },
     "metadata": {},
     "output_type": "display_data"
    }
   ],
   "source": [
    "# boxplot para detectar outliers en cada columna numérica usando plotly\n",
    "\n",
    "for col in numeric_cols:\n",
    "    fig = px.box(\n",
    "        df, \n",
    "        y=col, \n",
    "        title=f'📦 Boxplot de {col}',\n",
    "        points=\"all\",  # Muestra todos los puntos (outliers incluidos)\n",
    "        template=\"plotly_white\",  # Fondo claro y limpio\n",
    "        color_discrete_sequence=[\"#800000\"]  # Color vino tinto profesional\n",
    "    )\n",
    "    \n",
    "    fig.update_layout(\n",
    "        title_font=dict(size=20, family='Arial', color='black'),\n",
    "        yaxis_title=col,\n",
    "        yaxis=dict(showgrid=True, gridcolor='lightgray'),\n",
    "        margin=dict(l=50, r=30, t=50, b=30),\n",
    "        height=400\n",
    "    )\n",
    "    \n",
    "    fig.update_traces(jitter=0.3, marker=dict(size=5, opacity=0.6))\n",
    "    fig.show() "
   ]
  },
  {
   "cell_type": "code",
   "execution_count": 50,
   "id": "eba829b7",
   "metadata": {},
   "outputs": [],
   "source": [
    "# Guardar los gráficos de boxplot como archivos HTML para visualización interactiva\n",
    "for col in numeric_cols:\n",
    "    fig = px.box(\n",
    "        df, \n",
    "        y=col, \n",
    "        title=f'📦 Boxplot de {col}',\n",
    "        points=\"all\",\n",
    "        template=\"plotly_white\",\n",
    "        color_discrete_sequence=[\"#800000\"]\n",
    "    )\n",
    "    \n",
    "    fig.update_layout(\n",
    "        title_font=dict(size=20, family='Arial', color='black'),\n",
    "        yaxis_title=col,\n",
    "        margin=dict(l=50, r=30, t=50, b=30),\n",
    "        height=400\n",
    "    )\n",
    "    \n",
    "    fig.write_html(f\"../src/html/boxplot_{col}.html\")"
   ]
  },
  {
   "cell_type": "code",
   "execution_count": 52,
   "id": "68a0cd10",
   "metadata": {},
   "outputs": [
    {
     "data": {
      "image/png": "[encoded data removed]",
      "text/plain": [
       "<Figure size 600x400 with 1 Axes>"
      ]
     },
     "metadata": {},
     "output_type": "display_data"
    },
    {
     "data": {
      "image/png": "[encoded data removed]",
      "text/plain": [
       "<Figure size 600x400 with 1 Axes>"
      ]
     },
     "metadata": {},
     "output_type": "display_data"
    },
    {
     "data": {
      "image/png": "[encoded data removed]",
      "text/plain": [
       "<Figure size 600x400 with 1 Axes>"
      ]
     },
     "metadata": {},
     "output_type": "display_data"
    },
    {
     "data": {
      "image/png": "[encoded data removed]",
      "text/plain": [
       "<Figure size 600x400 with 1 Axes>"
      ]
     },
     "metadata": {},
     "output_type": "display_data"
    },
    {
     "data": {
      "image/png": "[encoded data removed]",
      "text/plain": [
       "<Figure size 600x400 with 1 Axes>"
      ]
     },
     "metadata": {},
     "output_type": "display_data"
    }
   ],
   "source": [
    "# Boxplots con seaborn para detectar outliers en cada columna numérica\n",
    "for col in numeric_cols:\n",
    "    plt.figure(figsize=(6, 4))\n",
    "    sns.boxplot(x=df[col])\n",
    "    plt.title(f'Boxplot de {col}')\n",
    "    plt.show()"
   ]
  }
 ],
 "metadata": {
  "kernelspec": {
   "display_name": "Python 3",
   "language": "python",
   "name": "python3"
  },
  "language_info": {
   "codemirror_mode": {
    "name": "ipython",
    "version": 3
   },
   "file_extension": ".py",
   "mimetype": "text/x-python",
   "name": "python",
   "nbconvert_exporter": "python",
   "pygments_lexer": "ipython3",
   "version": "3.13.3"
  }
 },
 "nbformat": 4,
 "nbformat_minor": 5
}

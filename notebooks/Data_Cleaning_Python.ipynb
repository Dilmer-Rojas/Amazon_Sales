{
 "cells": [
  {
   "cell_type": "markdown",
   "id": "e513f60c",
   "metadata": {},
   "source": [
    "## Limpieza de Datos con Python"
   ]
  },
  {
   "cell_type": "code",
   "execution_count": null,
   "id": "019265f3",
   "metadata": {},
   "outputs": [],
   "source": [
    "# Importando las librerías necesarias\n",
    "import matplotlib.pyplot as plt # Para gráficos básicos\n",
    "import seaborn as sns # Para gráficos estadísticos\n",
    "import plotly.express as px # Para gráficos interactivos\n",
    "import pandas as pd # Para manipulación de datos\n",
    "import numpy as np # Para operaciones numéricas\n",
    "from colorama import Fore, Style # Para colores en la terminal"
   ]
  },
  {
   "cell_type": "code",
   "execution_count": null,
   "id": "e6d3533a",
   "metadata": {},
   "outputs": [],
   "source": [
    "# Ruta del archivo CSV\n",
    "ruta = \"../data/raw/amazon.csv\"\n",
    "# Cargando el dataset\n",
    "df = pd.read_csv(ruta)"
   ]
  },
  {
   "cell_type": "markdown",
   "id": "5e507196",
   "metadata": {},
   "source": [
    "### 1. Inspección Inicial"
   ]
  },
  {
   "cell_type": "code",
   "execution_count": null,
   "id": "08f9bce6",
   "metadata": {},
   "outputs": [],
   "source": [
    "# Inspección Inicial\n",
    "print(Fore.GREEN + \"Inspección Inicial del Dataset:\" + Style.RESET_ALL)\n",
    "print(Fore.BLUE + f\"El dataset contiene {df.shape[0]} filas y {df.shape[1]} columnas.\" + Style.RESET_ALL)"
   ]
  },
  {
   "cell_type": "code",
   "execution_count": null,
   "id": "5eb2a366",
   "metadata": {},
   "outputs": [],
   "source": [
    "# Primeras filas del dataset\n",
    "print(Fore.GREEN + \"Primeras filas del dataset: \" + Fore.RESET)\n",
    "df.head()"
   ]
  },
  {
   "cell_type": "code",
   "execution_count": null,
   "id": "e4ea2880",
   "metadata": {},
   "outputs": [],
   "source": [
    "# Información del DataFrame\n",
    "print(Fore.GREEN + \"Información del DataFrame:\" + Fore.RESET)\n",
    "print(Fore.BLUE)\n",
    "df.info()\n",
    "print(Style.RESET_ALL)"
   ]
  },
  {
   "cell_type": "markdown",
   "id": "80cafb94",
   "metadata": {},
   "source": [
    "**Interpretación:**\n",
    "\n",
    "- Podemos concluir que no hay nulos en el dataset.\n",
    "- Hay que corregir los tipos de datos (Dtypes) en algunas columnas."
   ]
  },
  {
   "cell_type": "code",
   "execution_count": null,
   "id": "57071ba6",
   "metadata": {},
   "outputs": [],
   "source": [
    "# Estadísticas descriptivas\n",
    "print(Fore.BLUE + \"Estadísticas descriptivas:\")\n",
    "df.describe()"
   ]
  },
  {
   "cell_type": "markdown",
   "id": "72a88f75",
   "metadata": {},
   "source": [
    "**Interpretación:**\n",
    "\n",
    "- Ya que todas las columnas son de tipo Object, no se puede concluir cuales son las estadísticas descriptivas generales."
   ]
  },
  {
   "cell_type": "markdown",
   "id": "0498a799",
   "metadata": {},
   "source": [
    "### 2. Tratamiento de valores nulos"
   ]
  },
  {
   "cell_type": "code",
   "execution_count": null,
   "id": "acba46da",
   "metadata": {},
   "outputs": [],
   "source": [
    "# Ver valores nulos\n",
    "print(Fore.GREEN + \"Valores nulos en el dataset:\" + Fore.RESET)\n",
    "print(df.isnull().sum())"
   ]
  },
  {
   "cell_type": "markdown",
   "id": "929ce95f",
   "metadata": {},
   "source": [
    "**Interpretación:**\n",
    "\n",
    "- No hay valores nulos en ninguna de las columnas."
   ]
  },
  {
   "cell_type": "markdown",
   "id": "d111d3a8",
   "metadata": {},
   "source": [
    "### 3. Eliminación de Duplicados"
   ]
  },
  {
   "cell_type": "code",
   "execution_count": null,
   "id": "869b367d",
   "metadata": {},
   "outputs": [],
   "source": [
    "print(\"Valores únicos por columna:\")\n",
    "for col in df.columns:\n",
    "    print(f\"{col}: {df[col].nunique()} valores únicos\")\n",
    "# Verificación de duplicados\n",
    "print(Fore.GREEN + \"Número de filas duplicadas en el dataset:\" + Fore.RESET)\n",
    "print(df.duplicated().sum()) "
   ]
  },
  {
   "cell_type": "markdown",
   "id": "ee5cb5b8",
   "metadata": {},
   "source": [
    "**Interpretación:**\n",
    "\n",
    "- No hay duplicados en el dataset"
   ]
  },
  {
   "cell_type": "markdown",
   "id": "ae759585",
   "metadata": {},
   "source": [
    "### 4. Conversión de tipos de datos"
   ]
  },
  {
   "cell_type": "code",
   "execution_count": null,
   "id": "ac2ccad8",
   "metadata": {},
   "outputs": [],
   "source": [
    "# Revisión de tipos de datos\n",
    "print(Fore.GREEN + \"Tipos de datos de cada columna:\" + Fore.RESET)\n",
    "print(df.dtypes)"
   ]
  },
  {
   "cell_type": "code",
   "execution_count": null,
   "id": "c291c498",
   "metadata": {},
   "outputs": [],
   "source": [
    "df.head(1)"
   ]
  },
  {
   "cell_type": "code",
   "execution_count": null,
   "id": "a7087bd9",
   "metadata": {},
   "outputs": [],
   "source": [
    "# Convertir columnas a tipos adecuados\n",
    "\n",
    "# Eliminar símbolos no numéricos de los precios\n",
    "df['discounted_price'] = df['discounted_price'].str.replace(r'[^\\d.]', '', regex=True)\n",
    "df['actual_price'] = df['actual_price'].str.replace(r'[^\\d.]', '', regex=True)\n",
    "\n",
    "# Eliminar '%' del porcentaje\n",
    "df['discount_percentage'] = df['discount_percentage'].str.replace('%', '', regex=True)\n",
    "\n",
    "# Eliminar comas del conteo de calificaciones\n",
    "df['rating_count'] = df['rating_count'].str.replace(',', '', regex=True)\n",
    "\n",
    "# Eliminar valores no numéricos en 'rating' (por ejemplo: '|', 'N/A', etc.)\n",
    "df['rating'] = pd.to_numeric(df['rating'], errors='coerce')\n",
    "\n",
    "# Convertir todo a los tipos correctos (y NaN si no se puede convertir)\n",
    "df['discounted_price'] = pd.to_numeric(df['discounted_price'], errors='coerce')\n",
    "df['actual_price'] = pd.to_numeric(df['actual_price'], errors='coerce')\n",
    "df['discount_percentage'] = pd.to_numeric(df['discount_percentage'], errors='coerce')\n",
    "df['rating_count'] = pd.to_numeric(df['rating_count'], errors='coerce')"
   ]
  },
  {
   "cell_type": "code",
   "execution_count": null,
   "id": "a9ec3f85",
   "metadata": {},
   "outputs": [],
   "source": [
    "# Verificar los tipos de datos después de la conversión\n",
    "print(Fore.GREEN + \"Tipos de datos después de la conversión:\" + Fore.RESET)\n",
    "print(df.dtypes)"
   ]
  },
  {
   "cell_type": "code",
   "execution_count": null,
   "id": "69610307",
   "metadata": {},
   "outputs": [],
   "source": [
    "df.describe() # Para ver estadisticas descriptivas después de la conversión"
   ]
  },
  {
   "cell_type": "markdown",
   "id": "aa1fa322",
   "metadata": {},
   "source": [
    "### 5. Detección y Tratamiento de Outliers"
   ]
  },
  {
   "cell_type": "code",
   "execution_count": null,
   "id": "1936bcf3",
   "metadata": {},
   "outputs": [],
   "source": [
    "# Identificar columnas numéricas para detección de outliers\n",
    "numeric_cols = df.select_dtypes(include=[np.number]).columns.tolist()\n",
    "numeric_cols"
   ]
  },
  {
   "cell_type": "code",
   "execution_count": null,
   "id": "803a92cc",
   "metadata": {},
   "outputs": [],
   "source": [
    "# boxplot para detectar outliers en cada columna numérica usando plotly\n",
    "\n",
    "for col in numeric_cols:\n",
    "    fig = px.box(\n",
    "        df, \n",
    "        y=col, \n",
    "        title=f'📦 Boxplot de {col}',\n",
    "        points=\"all\",  # Muestra todos los puntos (outliers incluidos)\n",
    "        template=\"plotly_white\",  # Fondo claro y limpio\n",
    "        color_discrete_sequence=[\"#800000\"]  # Color vino tinto profesional\n",
    "    )\n",
    "    \n",
    "    fig.update_layout(\n",
    "        title_font=dict(size=20, family='Arial', color='black'),\n",
    "        yaxis_title=col,\n",
    "        yaxis=dict(showgrid=True, gridcolor='lightgray'),\n",
    "        margin=dict(l=50, r=30, t=50, b=30),\n",
    "        height=400\n",
    "    )\n",
    "    \n",
    "    fig.update_traces(jitter=0.3, marker=dict(size=5, opacity=0.6))\n",
    "    fig.show()\n",
    "\n",
    "    \n",
    "# for col in numeric_cols:\n",
    "#     plt.figure(figsize=(10, 5))\n",
    "#     sns.boxplot(x=df[col])\n",
    "#     plt.title(f'Boxplot de {col}')\n",
    "#     plt.show()\n",
    "    "
   ]
  },
  {
   "cell_type": "code",
   "execution_count": null,
   "id": "eba829b7",
   "metadata": {},
   "outputs": [],
   "source": [
    "import plotly.io as pio\n",
    "\n",
    "for col in numeric_cols:\n",
    "    fig = px.box(\n",
    "        df, \n",
    "        y=col, \n",
    "        title=f'📦 Boxplot de {col}',\n",
    "        points=\"all\",\n",
    "        template=\"plotly_white\",\n",
    "        color_discrete_sequence=[\"#800000\"]\n",
    "    )\n",
    "    \n",
    "    fig.update_layout(\n",
    "        title_font=dict(size=20, family='Arial', color='black'),\n",
    "        yaxis_title=col,\n",
    "        margin=dict(l=50, r=30, t=50, b=30),\n",
    "        height=400\n",
    "    )\n",
    "    \n",
    "    # Guardar como imagen\n",
    "    pio.write_image(fig, f\"boxplot_{col}.png\")\n"
   ]
  }
 ],
 "metadata": {
  "kernelspec": {
   "display_name": "Python 3",
   "language": "python",
   "name": "python3"
  },
  "language_info": {
   "codemirror_mode": {
    "name": "ipython",
    "version": 3
   },
   "file_extension": ".py",
   "mimetype": "text/x-python",
   "name": "python",
   "nbconvert_exporter": "python",
   "pygments_lexer": "ipython3",
   "version": "3.13.3"
  }
 },
 "nbformat": 4,
 "nbformat_minor": 5
}
